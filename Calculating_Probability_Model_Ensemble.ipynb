{
 "cells": [
  {
   "cell_type": "markdown",
   "id": "minute-aberdeen",
   "metadata": {},
   "source": [
    "### Matthew Collins\n",
    "#### DSC 630 Predictive Analytics\n",
    "#### 9.3 Assignment:  Calculate Probability of Model Ensemble"
   ]
  },
  {
   "cell_type": "markdown",
   "id": "imposed-recovery",
   "metadata": {},
   "source": [
    "Calculate the probability of a model ensemble that uses simple majority voting making an incorrect prediction in the following scenarios. (Hint: Understanding how to use the binomial distribution will be useful in answering this question.)\n",
    "- The ensemble contains 11 independent models, all of which have an error rate of 0.2.\n",
    "- The ensemble contains 11 independent models, all of which have an error rate of 0.49.\n",
    "- The ensemble contains 21 independent models, all of which have an error rate of 0.49."
   ]
  },
  {
   "cell_type": "code",
   "execution_count": 2,
   "id": "major-optimum",
   "metadata": {},
   "outputs": [],
   "source": [
    "# import libraries used for analysis\n",
    "\n",
    "import numpy as np\n",
    "import matplotlib.pyplot as plt\n",
    "from scipy.stats import binom\n"
   ]
  },
  {
   "cell_type": "markdown",
   "id": "endless-canvas",
   "metadata": {},
   "source": [
    "#### Probability for 11 independent models, all with an error rate of 0.2"
   ]
  },
  {
   "cell_type": "code",
   "execution_count": 46,
   "id": "smooth-debut",
   "metadata": {},
   "outputs": [],
   "source": [
    "# set the variables for - the ensemble contains 11 independent models, all of which have an error rate of 0.2\n",
    "\n",
    "n = 11   # number of independent models\n",
    "p = 0.8  # single success rate (or 1 - 0.2)"
   ]
  },
  {
   "cell_type": "code",
   "execution_count": 47,
   "id": "radical-peninsula",
   "metadata": {},
   "outputs": [],
   "source": [
    "# perform the calculations using variables n and p\n",
    "\n",
    "mean, var, skew, kurt = binom.stats(n, p, moments = 'mvsk')"
   ]
  },
  {
   "cell_type": "code",
   "execution_count": 48,
   "id": "municipal-episode",
   "metadata": {},
   "outputs": [
    {
     "data": {
      "image/png": "[encoded data removed]",
      "text/plain": [
       "<Figure size 432x288 with 1 Axes>"
      ]
     },
     "metadata": {
      "needs_background": "light"
     },
     "output_type": "display_data"
    }
   ],
   "source": [
    "# create the probability mass function (pmf)\n",
    "\n",
    "fig, ax = plt.subplots(1,1)\n",
    "\n",
    "x = np.arange(binom.ppf(0.01, n, p),\n",
    "              binom.ppf(0.99, n, p))\n",
    "\n",
    "ax.plot(x, binom.pmf(x, n, p), 'bo', ms = 8, label = 'binom pmf')\n",
    "ax.vlines(x, 0, binom.pmf(x, n, p), colors = 'g', lw = 5, alpha = 0.5)\n",
    "\n",
    "# freeze the distribution and display\n",
    "\n",
    "rv = binom(n, p)\n",
    "ax.vlines(x, 0, rv.pmf(x), colors = 'k', linestyles = '-', lw = 1, label = 'frozen pmf')\n",
    "ax.legend(loc = 'best', frameon = False)\n",
    "plt.show()"
   ]
  },
  {
   "cell_type": "code",
   "execution_count": 35,
   "id": "spatial-buddy",
   "metadata": {},
   "outputs": [
    {
     "data": {
      "text/plain": [
       "True"
      ]
     },
     "execution_count": 35,
     "metadata": {},
     "output_type": "execute_result"
    }
   ],
   "source": [
    "# check accuracy of cdf and ppf\n",
    "\n",
    "prob = binom.cdf(x, n, p)\n",
    "np.allclose(x, binom.ppf(prob, n, p))"
   ]
  },
  {
   "cell_type": "markdown",
   "id": "hydraulic-level",
   "metadata": {},
   "source": [
    "#### Probability for 11 independent models, all with an error rate of 0.49"
   ]
  },
  {
   "cell_type": "code",
   "execution_count": 27,
   "id": "polyphonic-breathing",
   "metadata": {},
   "outputs": [],
   "source": [
    "# set the variables for - the ensemble contains 11 independent models, all of which have an error rate of 0.49\n",
    "\n",
    "n = 11   # number of independent models\n",
    "p = 0.51  # single success rate (or 1 - 0.49)"
   ]
  },
  {
   "cell_type": "code",
   "execution_count": 28,
   "id": "polar-verse",
   "metadata": {},
   "outputs": [],
   "source": [
    "# perform the calculations using variables n and p\n",
    "\n",
    "mean, var, skew, kurt = binom.stats(n, p, moments = 'mvsk')"
   ]
  },
  {
   "cell_type": "code",
   "execution_count": 30,
   "id": "steady-nylon",
   "metadata": {},
   "outputs": [
    {
     "data": {
      "image/png": "[encoded data removed]",
      "text/plain": [
       "<Figure size 432x288 with 1 Axes>"
      ]
     },
     "metadata": {
      "needs_background": "light"
     },
     "output_type": "display_data"
    }
   ],
   "source": [
    "# create the probability mass function (pmf)\n",
    "\n",
    "fig, ax = plt.subplots(1,1)\n",
    "\n",
    "x = np.arange(binom.ppf(0.01, n, p),\n",
    "              binom.ppf(0.99, n, p))\n",
    "\n",
    "ax.plot(x, binom.pmf(x, n, p), 'bo', ms = 8, label = 'binom pmf')\n",
    "ax.vlines(x, 0, binom.pmf(x, n, p), colors = 'g', lw = 5, alpha = 0.5)\n",
    "\n",
    "# freeze the distribution and display\n",
    "\n",
    "rv = binom(n, p)\n",
    "ax.vlines(x, 0, rv.pmf(x), colors = 'k', linestyles = '-', lw = 1, label = 'frozen pmf')\n",
    "ax.legend(loc = 'best', frameon = False)\n",
    "plt.show()"
   ]
  },
  {
   "cell_type": "code",
   "execution_count": 31,
   "id": "european-tunisia",
   "metadata": {},
   "outputs": [
    {
     "data": {
      "text/plain": [
       "True"
      ]
     },
     "execution_count": 31,
     "metadata": {},
     "output_type": "execute_result"
    }
   ],
   "source": [
    "# check accuracy of cdf and ppf\n",
    "\n",
    "prob = binom.cdf(x, n, p)\n",
    "np.allclose(x, binom.ppf(prob, n, p))"
   ]
  },
  {
   "cell_type": "markdown",
   "id": "western-convenience",
   "metadata": {},
   "source": [
    "#### Probability for 21 independent models, all with an error rate of 0.49"
   ]
  },
  {
   "cell_type": "code",
   "execution_count": 23,
   "id": "periodic-spanking",
   "metadata": {},
   "outputs": [],
   "source": [
    "# set the variables for - the ensemble contains 21 independent models, all of which have an error rate of 0.49\n",
    "\n",
    "n = 21   # number of independent models\n",
    "p = 0.51  # single success rate (or 1 - 0.49)"
   ]
  },
  {
   "cell_type": "code",
   "execution_count": 24,
   "id": "measured-conducting",
   "metadata": {},
   "outputs": [],
   "source": [
    "# perform the calculations using variables n and p\n",
    "\n",
    "mean, var, skew, kurt = binom.stats(n, p, moments = 'mvsk')"
   ]
  },
  {
   "cell_type": "code",
   "execution_count": 25,
   "id": "recorded-match",
   "metadata": {},
   "outputs": [
    {
     "data": {
      "image/png": "[encoded data removed]",
      "text/plain": [
       "<Figure size 432x288 with 1 Axes>"
      ]
     },
     "metadata": {
      "needs_background": "light"
     },
     "output_type": "display_data"
    }
   ],
   "source": [
    "# create the probability mass function (pmf)\n",
    "\n",
    "fig, ax = plt.subplots(1,1)\n",
    "\n",
    "x = np.arange(binom.ppf(0.01, n, p),\n",
    "              binom.ppf(0.99, n, p))\n",
    "\n",
    "ax.plot(x, binom.pmf(x, n, p), 'bo', ms = 8, label = 'binom pmf')\n",
    "ax.vlines(x, 0, binom.pmf(x, n, p), colors = 'g', lw = 5, alpha = 0.5)\n",
    "\n",
    "# freeze the distribution and display\n",
    "\n",
    "rv = binom(n, p)\n",
    "ax.vlines(x, 0, rv.pmf(x), colors = 'k', linestyles = '-', lw = 1, label = 'frozen pmf')\n",
    "ax.legend(loc = 'best', frameon = False)\n",
    "plt.show()"
   ]
  },
  {
   "cell_type": "code",
   "execution_count": 26,
   "id": "psychological-washington",
   "metadata": {},
   "outputs": [
    {
     "data": {
      "text/plain": [
       "True"
      ]
     },
     "execution_count": 26,
     "metadata": {},
     "output_type": "execute_result"
    }
   ],
   "source": [
    "# check accuracy of cdf and ppf\n",
    "\n",
    "prob = binom.cdf(x, n, p)\n",
    "np.allclose(x, binom.ppf(prob, n, p))"
   ]
  },
  {
   "cell_type": "markdown",
   "id": "exposed-istanbul",
   "metadata": {},
   "source": [
    "### Looking at alternative method for evaluating probability distributions visually (only done for bullet 1)\n",
    "#### Probability for 11 independent models, all with an error rate of 0.2"
   ]
  },
  {
   "cell_type": "code",
   "execution_count": 14,
   "id": "union-fishing",
   "metadata": {},
   "outputs": [
    {
     "name": "stdout",
     "output_type": "stream",
     "text": [
      "r\tp(r)\n",
      "0\t2.0479999999999952e-08\n",
      "1\t9.011199999999997e-07\n",
      "2\t1.8022400000000016e-05\n",
      "3\t0.00021626880000000012\n",
      "4\t0.0017301503999999984\n",
      "5\t0.009688842239999993\n",
      "6\t0.038755368960000015\n",
      "7\t0.11072962560000005\n",
      "8\t0.22145925120000012\n",
      "9\t0.29527900160000037\n",
      "10\t0.2362232012800001\n",
      "11\t0.08589934592000005\n",
      "mean = 8.8\n",
      "variance = 1.7599999999999998\n"
     ]
    }
   ],
   "source": [
    "# of n and p  (note in this scenario 9 = 1 - error rate)\n",
    "n = 11\n",
    "p = 0.8\n",
    "\n",
    "# defining the list of r values\n",
    "r_values = list(range(n+1))\n",
    "\n",
    "# obtaining the mean and variance \n",
    "mean, var = binom.stats(n, p)\n",
    "\n",
    "# list of pmf values\n",
    "dist = [binom.pmf(r, n, p) for r in r_values ]\n",
    "\n",
    "# printing the table\n",
    "print(\"r\\tp(r)\")\n",
    "for i in range(n + 1):\n",
    "    print(str(r_values[i]) + \"\\t\" + str(dist[i]))\n",
    "    \n",
    "# printing mean and variance\n",
    "print(\"mean = \"+str(mean))\n",
    "print(\"variance = \"+str(var))"
   ]
  },
  {
   "cell_type": "code",
   "execution_count": 15,
   "id": "killing-whole",
   "metadata": {},
   "outputs": [
    {
     "data": {
      "image/png": "[encoded data removed]",
      "text/plain": [
       "<Figure size 432x288 with 1 Axes>"
      ]
     },
     "metadata": {
      "needs_background": "light"
     },
     "output_type": "display_data"
    }
   ],
   "source": [
    "# list of pmf values\n",
    "dist = [binom.pmf(r, n, p) for r in r_values ]\n",
    "# plotting the graph \n",
    "plt.bar(r_values, dist)\n",
    "plt.show()"
   ]
  },
  {
   "cell_type": "markdown",
   "id": "decreased-morgan",
   "metadata": {},
   "source": [
    "### Simple CDF Calculation to answer the questions\n",
    "#### Setting the p-value, using 1 - error  and success is considered the culmative probability of getting the majority needed.\n",
    "#### Majority is 1 more vote than the alternative (e.g., 11 models means 6 for majority)."
   ]
  },
  {
   "cell_type": "code",
   "execution_count": 8,
   "id": "loved-gnome",
   "metadata": {},
   "outputs": [
    {
     "data": {
      "text/plain": [
       "0.011654205439999985"
      ]
     },
     "execution_count": 8,
     "metadata": {},
     "output_type": "execute_result"
    }
   ],
   "source": [
    "# With 11 models and an error rate of 20% what is the probability 6 will provide an incorrect prediction?\n",
    "\n",
    "binom.cdf(5, 11, 0.8)  # for this success is 5 and p rate = 1 - error rate\n"
   ]
  },
  {
   "cell_type": "code",
   "execution_count": 4,
   "id": "retained-audit",
   "metadata": {},
   "outputs": [
    {
     "data": {
      "text/plain": [
       "0.47294772571497473"
      ]
     },
     "execution_count": 4,
     "metadata": {},
     "output_type": "execute_result"
    }
   ],
   "source": [
    "# With 11 models and an error rate of 49% what is the probability 6 will provide an incorrect prediction?\n",
    "\n",
    "binom.cdf(5, 11, 0.51)  # for this success is 5 and p rate = 1 - error rate"
   ]
  },
  {
   "cell_type": "code",
   "execution_count": 6,
   "id": "brazilian-fairy",
   "metadata": {},
   "outputs": [
    {
     "data": {
      "text/plain": [
       "0.4630479010127354"
      ]
     },
     "execution_count": 6,
     "metadata": {},
     "output_type": "execute_result"
    }
   ],
   "source": [
    "# With 21 models and an error rate of 49% what is the probability 6 will provide an incorrect prediction?\n",
    "\n",
    "binom.cdf(10, 21, 0.51) # for this success is 10 and p rate = 1 - error rate"
   ]
  },
  {
   "cell_type": "markdown",
   "id": "suffering-explosion",
   "metadata": {},
   "source": [
    "### Answers:\n",
    "#### 11 models & error rate of 20% = 1.2%\n",
    "#### 11 models & error rate of 49% = 47.3%\n",
    "#### 21 models & error rate of 49% = 46.3% "
   ]
  },
  {
   "cell_type": "code",
   "execution_count": null,
   "id": "technical-reasoning",
   "metadata": {},
   "outputs": [],
   "source": []
  }
 ],
 "metadata": {
  "kernelspec": {
   "display_name": "Python 3",
   "language": "python",
   "name": "python3"
  },
  "language_info": {
   "codemirror_mode": {
    "name": "ipython",
    "version": 3
   },
   "file_extension": ".py",
   "mimetype": "text/x-python",
   "name": "python",
   "nbconvert_exporter": "python",
   "pygments_lexer": "ipython3",
   "version": "3.7.4"
  }
 },
 "nbformat": 4,
 "nbformat_minor": 5
}
