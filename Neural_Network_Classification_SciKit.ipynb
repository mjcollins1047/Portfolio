{
 "cells": [
  {
   "cell_type": "markdown",
   "id": "dominican-appointment",
   "metadata": {},
   "source": [
    "### Mathew Collins\n",
    "#### DSC 550: Week 9/10\n",
    "#### 9.3 Exercise: Neural Network Classifiers"
   ]
  },
  {
   "cell_type": "markdown",
   "id": "directed-unemployment",
   "metadata": {},
   "source": [
    "## 1.  Neural Network Classifier with Scikit"
   ]
  },
  {
   "cell_type": "code",
   "execution_count": 345,
   "id": "arranged-creek",
   "metadata": {},
   "outputs": [
    {
     "name": "stderr",
     "output_type": "stream",
     "text": [
      "[nltk_data] Downloading package punkt to\n",
      "[nltk_data]     C:\\Users\\quefi\\AppData\\Roaming\\nltk_data...\n",
      "[nltk_data]   Package punkt is already up-to-date!\n"
     ]
    }
   ],
   "source": [
    "# Import Libraries to use\n",
    "import json\n",
    "import pandas as pd\n",
    "import numpy as np\n",
    "from sklearn.neural_network import MLPRegressor, MLPClassifier\n",
    "from sklearn.model_selection import cross_val_score\n",
    "from sklearn.model_selection import train_test_split\n",
    "from sklearn.feature_extraction.text import CountVectorizer, ENGLISH_STOP_WORDS\n",
    "import nltk\n",
    "nltk.download('punkt')\n",
    "from nltk.stem.lancaster import LancasterStemmer\n",
    "import joblib\n",
    "import matplotlib.pyplot as plt\n",
    "import seaborn as sns\n"
   ]
  },
  {
   "cell_type": "code",
   "execution_count": 2,
   "id": "structural-payroll",
   "metadata": {},
   "outputs": [],
   "source": [
    "# Create variable to hold the file name\n",
    "f = 'categorized-comments.jsonl'"
   ]
  },
  {
   "cell_type": "code",
   "execution_count": 3,
   "id": "radio-prayer",
   "metadata": {},
   "outputs": [],
   "source": [
    "# Read the JSON file into a data frame\n",
    "df = pd.read_json(f, lines = True)"
   ]
  },
  {
   "cell_type": "code",
   "execution_count": 4,
   "id": "portuguese-cabinet",
   "metadata": {},
   "outputs": [
    {
     "data": {
      "text/html": [
       "<div>\n",
       "<style scoped>\n",
       "    .dataframe tbody tr th:only-of-type {\n",
       "        vertical-align: middle;\n",
       "    }\n",
       "\n",
       "    .dataframe tbody tr th {\n",
       "        vertical-align: top;\n",
       "    }\n",
       "\n",
       "    .dataframe thead th {\n",
       "        text-align: right;\n",
       "    }\n",
       "</style>\n",
       "<table border=\"1\" class=\"dataframe\">\n",
       "  <thead>\n",
       "    <tr style=\"text-align: right;\">\n",
       "      <th></th>\n",
       "      <th>cat</th>\n",
       "      <th>txt</th>\n",
       "    </tr>\n",
       "  </thead>\n",
       "  <tbody>\n",
       "    <tr>\n",
       "      <th>0</th>\n",
       "      <td>sports</td>\n",
       "      <td>Barely better than Gabbert? He was significant...</td>\n",
       "    </tr>\n",
       "    <tr>\n",
       "      <th>1</th>\n",
       "      <td>sports</td>\n",
       "      <td>Fuck the ducks and the Angels! But welcome to ...</td>\n",
       "    </tr>\n",
       "    <tr>\n",
       "      <th>2</th>\n",
       "      <td>sports</td>\n",
       "      <td>Should have drafted more WRs.\\n\\n- Matt Millen...</td>\n",
       "    </tr>\n",
       "    <tr>\n",
       "      <th>3</th>\n",
       "      <td>sports</td>\n",
       "      <td>[Done](https://i.imgur.com/2YZ90pm.jpg)</td>\n",
       "    </tr>\n",
       "    <tr>\n",
       "      <th>4</th>\n",
       "      <td>sports</td>\n",
       "      <td>No!! NOO!!!!!</td>\n",
       "    </tr>\n",
       "    <tr>\n",
       "      <th>...</th>\n",
       "      <td>...</td>\n",
       "      <td>...</td>\n",
       "    </tr>\n",
       "    <tr>\n",
       "      <th>606470</th>\n",
       "      <td>video_games</td>\n",
       "      <td>&amp;gt;any chance we can install the entire conte...</td>\n",
       "    </tr>\n",
       "    <tr>\n",
       "      <th>606471</th>\n",
       "      <td>video_games</td>\n",
       "      <td>No. It's probably only happened to you</td>\n",
       "    </tr>\n",
       "    <tr>\n",
       "      <th>606472</th>\n",
       "      <td>video_games</td>\n",
       "      <td>I think most of the disappointment came from t...</td>\n",
       "    </tr>\n",
       "    <tr>\n",
       "      <th>606473</th>\n",
       "      <td>video_games</td>\n",
       "      <td>dishonored 1/2 looked like arse, so what the h...</td>\n",
       "    </tr>\n",
       "    <tr>\n",
       "      <th>606474</th>\n",
       "      <td>video_games</td>\n",
       "      <td>[removed]</td>\n",
       "    </tr>\n",
       "  </tbody>\n",
       "</table>\n",
       "<p>606475 rows × 2 columns</p>\n",
       "</div>"
      ],
      "text/plain": [
       "                cat                                                txt\n",
       "0            sports  Barely better than Gabbert? He was significant...\n",
       "1            sports  Fuck the ducks and the Angels! But welcome to ...\n",
       "2            sports  Should have drafted more WRs.\\n\\n- Matt Millen...\n",
       "3            sports            [Done](https://i.imgur.com/2YZ90pm.jpg)\n",
       "4            sports                                      No!! NOO!!!!!\n",
       "...             ...                                                ...\n",
       "606470  video_games  &gt;any chance we can install the entire conte...\n",
       "606471  video_games             No. It's probably only happened to you\n",
       "606472  video_games  I think most of the disappointment came from t...\n",
       "606473  video_games  dishonored 1/2 looked like arse, so what the h...\n",
       "606474  video_games                                          [removed]\n",
       "\n",
       "[606475 rows x 2 columns]"
      ]
     },
     "execution_count": 4,
     "metadata": {},
     "output_type": "execute_result"
    }
   ],
   "source": [
    "# view the dataframe\n",
    "df"
   ]
  },
  {
   "cell_type": "code",
   "execution_count": 5,
   "id": "reported-cherry",
   "metadata": {},
   "outputs": [
    {
     "data": {
      "text/plain": [
       "video_games               435541\n",
       "sports                    145823\n",
       "science_and_technology     25111\n",
       "Name: cat, dtype: int64"
      ]
     },
     "execution_count": 5,
     "metadata": {},
     "output_type": "execute_result"
    }
   ],
   "source": [
    "df['cat'].value_counts()"
   ]
  },
  {
   "cell_type": "code",
   "execution_count": 6,
   "id": "welsh-smile",
   "metadata": {},
   "outputs": [
    {
     "data": {
      "text/plain": [
       "video_games               0.718152\n",
       "sports                    0.240444\n",
       "science_and_technology    0.041405\n",
       "Name: cat, dtype: float64"
      ]
     },
     "execution_count": 6,
     "metadata": {},
     "output_type": "execute_result"
    }
   ],
   "source": [
    "df['cat'].value_counts() / len(df['cat'])"
   ]
  },
  {
   "cell_type": "code",
   "execution_count": 22,
   "id": "neutral-australian",
   "metadata": {},
   "outputs": [
    {
     "data": {
      "text/plain": [
       "video_games               0.71675\n",
       "sports                    0.23850\n",
       "science_and_technology    0.04475\n",
       "Name: cat, dtype: float64"
      ]
     },
     "execution_count": 22,
     "metadata": {},
     "output_type": "execute_result"
    }
   ],
   "source": [
    "# grab a subset of the data.  My computer cannot handle 600k+ rows\n",
    "\n",
    "smp_df = df.sample(4000)\n",
    "smp_df['cat'].value_counts()/len(smp_df['cat'])"
   ]
  },
  {
   "cell_type": "markdown",
   "id": "legal-elder",
   "metadata": {},
   "source": [
    "### The original data vs. the sampl data remains aligned with the 3 categories:\n",
    "\n",
    "* video_games = 0.718 vs. 0.717\n",
    "* sports = 0.240 vs. 0.239\n",
    "* science_and_technology = 0.041 vs. 0.045"
   ]
  },
  {
   "cell_type": "code",
   "execution_count": 10,
   "id": "covered-realtor",
   "metadata": {},
   "outputs": [],
   "source": [
    "# Tokenize the txt column\n",
    "\n",
    "word_tokens = [nltk.word_tokenize(item) for item in smp_df['txt']]"
   ]
  },
  {
   "cell_type": "code",
   "execution_count": 11,
   "id": "forced-pilot",
   "metadata": {},
   "outputs": [
    {
     "data": {
      "text/plain": [
       "['video_games', 'sports', 'science_and_technology']"
      ]
     },
     "execution_count": 11,
     "metadata": {},
     "output_type": "execute_result"
    }
   ],
   "source": [
    "# Create a class list\n",
    "\n",
    "list_smp_cat = smp_df['cat']\n",
    "classes = []\n",
    "\n",
    "for cat in list_smp_cat:\n",
    "    if cat not in classes:\n",
    "        classes.append(cat)\n",
    "\n",
    "classes"
   ]
  },
  {
   "cell_type": "code",
   "execution_count": 12,
   "id": "given-graduate",
   "metadata": {},
   "outputs": [],
   "source": [
    "# Create function to stem sentences of the data frame\n",
    "\n",
    "def stem_sentences(sentence):\n",
    "    tokens = sentence.split()\n",
    "    stemmed_tokens = [ps.stem(token) for token in tokens]\n",
    "    return ' '.join(stemmed_tokens)\n"
   ]
  },
  {
   "cell_type": "code",
   "execution_count": 23,
   "id": "standard-magnet",
   "metadata": {},
   "outputs": [],
   "source": [
    "# Clean up the txt column\n",
    "\n",
    "smp_df['txt'] = smp_df['txt'].str.replace('\\d+', '')  # remove numbers from column\n",
    "\n",
    "smp_df['txt'] = smp_df['txt'].str.replace(r'[^a-zA-Z ]+', '').str.strip() # remove special characters\n",
    "\n",
    "smp_df['txt'] = smp_df['txt'].str.lower()  # all letters changed to lowercase\n",
    "\n"
   ]
  },
  {
   "cell_type": "code",
   "execution_count": 24,
   "id": "brilliant-topic",
   "metadata": {},
   "outputs": [
    {
     "data": {
      "text/html": [
       "<div>\n",
       "<style scoped>\n",
       "    .dataframe tbody tr th:only-of-type {\n",
       "        vertical-align: middle;\n",
       "    }\n",
       "\n",
       "    .dataframe tbody tr th {\n",
       "        vertical-align: top;\n",
       "    }\n",
       "\n",
       "    .dataframe thead th {\n",
       "        text-align: right;\n",
       "    }\n",
       "</style>\n",
       "<table border=\"1\" class=\"dataframe\">\n",
       "  <thead>\n",
       "    <tr style=\"text-align: right;\">\n",
       "      <th></th>\n",
       "      <th>aa</th>\n",
       "      <th>aaa</th>\n",
       "      <th>aaaayyyyy</th>\n",
       "      <th>aakash</th>\n",
       "      <th>aaron</th>\n",
       "      <th>ab</th>\n",
       "      <th>abaddon</th>\n",
       "      <th>abaddonalso</th>\n",
       "      <th>abandon</th>\n",
       "      <th>abhor</th>\n",
       "      <th>...</th>\n",
       "      <th>zito</th>\n",
       "      <th>zoidberg</th>\n",
       "      <th>zombi</th>\n",
       "      <th>zomg</th>\n",
       "      <th>zone</th>\n",
       "      <th>zoneread</th>\n",
       "      <th>zoom</th>\n",
       "      <th>zsne</th>\n",
       "      <th>zte</th>\n",
       "      <th>zx</th>\n",
       "    </tr>\n",
       "  </thead>\n",
       "  <tbody>\n",
       "    <tr>\n",
       "      <th>0</th>\n",
       "      <td>0</td>\n",
       "      <td>0</td>\n",
       "      <td>0</td>\n",
       "      <td>0</td>\n",
       "      <td>0</td>\n",
       "      <td>0</td>\n",
       "      <td>0</td>\n",
       "      <td>0</td>\n",
       "      <td>0</td>\n",
       "      <td>0</td>\n",
       "      <td>...</td>\n",
       "      <td>0</td>\n",
       "      <td>0</td>\n",
       "      <td>0</td>\n",
       "      <td>0</td>\n",
       "      <td>0</td>\n",
       "      <td>0</td>\n",
       "      <td>0</td>\n",
       "      <td>0</td>\n",
       "      <td>0</td>\n",
       "      <td>0</td>\n",
       "    </tr>\n",
       "    <tr>\n",
       "      <th>1</th>\n",
       "      <td>0</td>\n",
       "      <td>0</td>\n",
       "      <td>0</td>\n",
       "      <td>0</td>\n",
       "      <td>0</td>\n",
       "      <td>0</td>\n",
       "      <td>0</td>\n",
       "      <td>0</td>\n",
       "      <td>0</td>\n",
       "      <td>0</td>\n",
       "      <td>...</td>\n",
       "      <td>0</td>\n",
       "      <td>0</td>\n",
       "      <td>0</td>\n",
       "      <td>0</td>\n",
       "      <td>0</td>\n",
       "      <td>0</td>\n",
       "      <td>0</td>\n",
       "      <td>0</td>\n",
       "      <td>0</td>\n",
       "      <td>0</td>\n",
       "    </tr>\n",
       "    <tr>\n",
       "      <th>2</th>\n",
       "      <td>0</td>\n",
       "      <td>0</td>\n",
       "      <td>0</td>\n",
       "      <td>0</td>\n",
       "      <td>0</td>\n",
       "      <td>0</td>\n",
       "      <td>0</td>\n",
       "      <td>0</td>\n",
       "      <td>0</td>\n",
       "      <td>0</td>\n",
       "      <td>...</td>\n",
       "      <td>0</td>\n",
       "      <td>0</td>\n",
       "      <td>0</td>\n",
       "      <td>0</td>\n",
       "      <td>0</td>\n",
       "      <td>0</td>\n",
       "      <td>0</td>\n",
       "      <td>0</td>\n",
       "      <td>0</td>\n",
       "      <td>0</td>\n",
       "    </tr>\n",
       "    <tr>\n",
       "      <th>3</th>\n",
       "      <td>0</td>\n",
       "      <td>0</td>\n",
       "      <td>0</td>\n",
       "      <td>0</td>\n",
       "      <td>0</td>\n",
       "      <td>0</td>\n",
       "      <td>0</td>\n",
       "      <td>0</td>\n",
       "      <td>0</td>\n",
       "      <td>0</td>\n",
       "      <td>...</td>\n",
       "      <td>0</td>\n",
       "      <td>0</td>\n",
       "      <td>0</td>\n",
       "      <td>0</td>\n",
       "      <td>0</td>\n",
       "      <td>0</td>\n",
       "      <td>0</td>\n",
       "      <td>0</td>\n",
       "      <td>0</td>\n",
       "      <td>0</td>\n",
       "    </tr>\n",
       "    <tr>\n",
       "      <th>4</th>\n",
       "      <td>0</td>\n",
       "      <td>0</td>\n",
       "      <td>0</td>\n",
       "      <td>0</td>\n",
       "      <td>0</td>\n",
       "      <td>0</td>\n",
       "      <td>0</td>\n",
       "      <td>0</td>\n",
       "      <td>0</td>\n",
       "      <td>0</td>\n",
       "      <td>...</td>\n",
       "      <td>0</td>\n",
       "      <td>0</td>\n",
       "      <td>0</td>\n",
       "      <td>0</td>\n",
       "      <td>0</td>\n",
       "      <td>0</td>\n",
       "      <td>0</td>\n",
       "      <td>0</td>\n",
       "      <td>0</td>\n",
       "      <td>0</td>\n",
       "    </tr>\n",
       "  </tbody>\n",
       "</table>\n",
       "<p>5 rows × 8516 columns</p>\n",
       "</div>"
      ],
      "text/plain": [
       "   aa  aaa  aaaayyyyy  aakash  aaron  ab  abaddon  abaddonalso  abandon  \\\n",
       "0   0    0          0       0      0   0        0            0        0   \n",
       "1   0    0          0       0      0   0        0            0        0   \n",
       "2   0    0          0       0      0   0        0            0        0   \n",
       "3   0    0          0       0      0   0        0            0        0   \n",
       "4   0    0          0       0      0   0        0            0        0   \n",
       "\n",
       "   abhor  ...  zito  zoidberg  zombi  zomg  zone  zoneread  zoom  zsne  zte  \\\n",
       "0      0  ...     0         0      0     0     0         0     0     0    0   \n",
       "1      0  ...     0         0      0     0     0         0     0     0    0   \n",
       "2      0  ...     0         0      0     0     0         0     0     0    0   \n",
       "3      0  ...     0         0      0     0     0         0     0     0    0   \n",
       "4      0  ...     0         0      0     0     0         0     0     0    0   \n",
       "\n",
       "   zx  \n",
       "0   0  \n",
       "1   0  \n",
       "2   0  \n",
       "3   0  \n",
       "4   0  \n",
       "\n",
       "[5 rows x 8516 columns]"
      ]
     },
     "execution_count": 24,
     "metadata": {},
     "output_type": "execute_result"
    }
   ],
   "source": [
    "# Stem and create bage of words\n",
    "\n",
    "from nltk.stem import PorterStemmer # import the PorterStemmer\n",
    "ps = PorterStemmer()  # create the stemmer\n",
    "\n",
    "smp_df['stem_txt'] = smp_df['txt'].apply(stem_sentences) # stem each sentence\n",
    "\n",
    "smp_df = smp_df.drop(columns = ['txt'])  # drop unstemmed column\n",
    "\n",
    "vect = CountVectorizer(stop_words = ENGLISH_STOP_WORDS, max_features = 12000)\n",
    "\n",
    "vect.fit(smp_df['stem_txt'])\n",
    "\n",
    "X_review = vect.transform(smp_df['stem_txt'])\n",
    "\n",
    "X_df = pd.DataFrame(X_review.toarray(), columns = vect.get_feature_names())\n",
    "\n",
    "X_df.head()"
   ]
  },
  {
   "cell_type": "code",
   "execution_count": 56,
   "id": "minimal-feeling",
   "metadata": {},
   "outputs": [
    {
     "name": "stdout",
     "output_type": "stream",
     "text": [
      "1200 rows in test set vs. 2800 in training set. 8516 Features.\n"
     ]
    }
   ],
   "source": [
    "# Create the variables and split the dataset\n",
    "\n",
    "y = smp_df['cat']  # feature to predict\n",
    "X = X_df           # information used to create prediction \n",
    "\n",
    "X_train, X_test, y_train, y_test = train_test_split(X, y, test_size = 0.3)\n",
    "\n",
    "print(\"{} rows in test set vs. {} in training set. {} Features.\".format(X_test.shape[0], X_train.shape[0], X_test.shape[1]))"
   ]
  },
  {
   "cell_type": "code",
   "execution_count": 57,
   "id": "regulation-catalog",
   "metadata": {},
   "outputs": [
    {
     "name": "stdout",
     "output_type": "stream",
     "text": [
      "Iteration 1, loss = 0.80878843\n",
      "Iteration 2, loss = 0.57732967\n",
      "Iteration 3, loss = 0.38831749\n",
      "Iteration 4, loss = 0.23347717\n",
      "Iteration 5, loss = 0.14153440\n",
      "Iteration 6, loss = 0.09574963\n",
      "Iteration 7, loss = 0.07315140\n",
      "Iteration 8, loss = 0.06173797\n",
      "Iteration 9, loss = 0.05701393\n",
      "Iteration 10, loss = 0.05389625\n",
      "Iteration 11, loss = 0.05208351\n",
      "Iteration 12, loss = 0.05068162\n",
      "Iteration 13, loss = 0.04776095\n",
      "Iteration 14, loss = 0.04869341\n",
      "Iteration 15, loss = 0.04733470\n",
      "Iteration 16, loss = 0.04826064\n",
      "Iteration 17, loss = 0.04710343\n",
      "Iteration 18, loss = 0.04841903\n",
      "Iteration 19, loss = 0.04975706\n",
      "Iteration 20, loss = 0.04989444\n",
      "Iteration 21, loss = 0.05342719\n",
      "Iteration 22, loss = 0.05160714\n",
      "Iteration 23, loss = 0.04627131\n",
      "Iteration 24, loss = 0.04849997\n",
      "Iteration 25, loss = 0.04583986\n",
      "Iteration 26, loss = 0.04569236\n",
      "Iteration 27, loss = 0.04636213\n",
      "Iteration 28, loss = 0.04787328\n",
      "Iteration 29, loss = 0.04547973\n",
      "Iteration 30, loss = 0.04612783\n",
      "Iteration 31, loss = 0.04621145\n",
      "Iteration 32, loss = 0.04508961\n",
      "Iteration 33, loss = 0.04558827\n",
      "Iteration 34, loss = 0.04591922\n",
      "Iteration 35, loss = 0.04546843\n",
      "Iteration 36, loss = 0.04591190\n",
      "Iteration 37, loss = 0.04607536\n",
      "Iteration 38, loss = 0.04714073\n",
      "Iteration 39, loss = 0.04563085\n",
      "Iteration 40, loss = 0.04552646\n",
      "Iteration 41, loss = 0.04592420\n",
      "Iteration 42, loss = 0.04571192\n",
      "Iteration 43, loss = 0.04592782\n",
      "Training loss did not improve more than tol=0.000100 for 10 consecutive epochs. Stopping.\n"
     ]
    }
   ],
   "source": [
    "# Create the sklearn model\n",
    "from sklearn.metrics import accuracy_score, precision_score, recall_score\n",
    "\n",
    "model = MLPClassifier(hidden_layer_sizes = [500, 150], verbose = True)\n",
    "model.fit(X_train, y_train)\n",
    "\n",
    "pred_y = model.predict(X_test)\n",
    "\n"
   ]
  },
  {
   "cell_type": "code",
   "execution_count": 58,
   "id": "prescription-architecture",
   "metadata": {},
   "outputs": [
    {
     "name": "stdout",
     "output_type": "stream",
     "text": [
      "Accuracy Score = 76.16666666666667\n",
      "Precision Score = 76.16666666666667\n",
      "Recall Score = 76.16666666666667\n",
      "F1 Score = 76.16666666666667\n"
     ]
    }
   ],
   "source": [
    "# Calculate the different model scores\n",
    "\n",
    "acc_score = accuracy_score(y_test, pred_y)*100\n",
    "prec_score = precision_score(y_test, pred_y, average='micro')*100\n",
    "recall_score = recall_score(y_test, pred_y, average= 'micro')*100\n",
    "f1score = f1_score(y_test, pred_y, average = 'micro')*100\n",
    "\n",
    "print('Accuracy Score =', acc_score)\n",
    "print('Precision Score =', prec_score)\n",
    "print('Recall Score =', recall_score)\n",
    "print('F1 Score =', f1score)"
   ]
  },
  {
   "cell_type": "code",
   "execution_count": 66,
   "id": "compound-discrimination",
   "metadata": {},
   "outputs": [
    {
     "data": {
      "text/plain": [
       "<sklearn.metrics._plot.confusion_matrix.ConfusionMatrixDisplay at 0x2665b6c3b48>"
      ]
     },
     "execution_count": 66,
     "metadata": {},
     "output_type": "execute_result"
    },
    {
     "data": {
      "image/png": "[encoded data removed]",
      "text/plain": [
       "<Figure size 432x288 with 2 Axes>"
      ]
     },
     "metadata": {
      "needs_background": "light"
     },
     "output_type": "display_data"
    }
   ],
   "source": [
    "# Create confusion matrix\n",
    "\n",
    "import matplotlib as plt\n",
    "from sklearn.metrics import plot_confusion_matrix\n",
    "\n",
    "plot_confusion_matrix(model, X_test, y_test, values_format ='.0f')\n"
   ]
  },
  {
   "cell_type": "markdown",
   "id": "suspended-james",
   "metadata": {},
   "source": [
    "## 2. Neural Network Classifier with Keras"
   ]
  },
  {
   "cell_type": "code",
   "execution_count": 159,
   "id": "premier-bankruptcy",
   "metadata": {},
   "outputs": [],
   "source": [
    "# import the keras libraries to be used.\n",
    "\n",
    "from keras.models import Sequential\n",
    "from keras import layers\n",
    "from sklearn.metrics import f1_score\n",
    "from keras.backend import clear_session\n",
    "from keras.utils import to_categorical\n",
    "from keras.utils import np_utils"
   ]
  },
  {
   "cell_type": "code",
   "execution_count": null,
   "id": "hearing-maldives",
   "metadata": {},
   "outputs": [],
   "source": [
    "# Create a function to convert string categories into numbers\n",
    "\n",
    "y_cats = []\n",
    "def convert(x):\n",
    "    for i in x:\n",
    "        if i == 'video_games':\n",
    "            i = 0\n",
    "            y_cats.append(i)\n",
    "\n",
    "        elif i == 'sports':\n",
    "            i = 1\n",
    "            y_cats.append(i)\n",
    "            \n",
    "        elif i == 'science_and_technology':\n",
    "            i = 2\n",
    "            y_cats.append(i)\n",
    "    \n",
    "    return y_cats\n",
    "    \n"
   ]
  },
  {
   "cell_type": "code",
   "execution_count": null,
   "id": "worst-orlando",
   "metadata": {},
   "outputs": [],
   "source": [
    "# Convert the string categories into numbers\n",
    "\n",
    "y_cats = convert(smp_df['cat'])"
   ]
  },
  {
   "cell_type": "code",
   "execution_count": null,
   "id": "abroad-found",
   "metadata": {},
   "outputs": [],
   "source": [
    "# Convert one hot encode labels and convert to categories\n",
    "\n",
    "y_cat2 = np_utils.to_categorical(y_cats)\n"
   ]
  },
  {
   "cell_type": "code",
   "execution_count": null,
   "id": "capital-absorption",
   "metadata": {},
   "outputs": [],
   "source": [
    "# Create the x and y to split for the model\n",
    "\n",
    "y = y_cat2         # feature to predict\n",
    "X = X_df           # this is the same vector created as part of step 1.\n",
    "\n",
    "X_train, X_test, y_train, y_test = train_test_split(X, y, test_size = 0.3)"
   ]
  },
  {
   "cell_type": "code",
   "execution_count": 254,
   "id": "surprising-dispute",
   "metadata": {},
   "outputs": [],
   "source": [
    "# Create the neural network keras model\n",
    "\n",
    "input_dim = X_train.shape[1]\n",
    "N_classes = 3\n",
    "\n",
    "model_seq = Sequential()\n",
    "model_seq.add(layers.Dense(500, input_dim = input_dim, kernel_initializer = 'uniform', activation = 'relu'))\n",
    "model_seq.add(layers.Dense(150, kernel_initializer = 'uniform', activation = 'relu'))\n",
    "model_seq.add(layers.Dense(3, activation = 'softmax'))\n",
    "model_seq.compile(loss = 'categorical_crossentropy', optimizer = 'adam', metrics =['accuracy'])\n"
   ]
  },
  {
   "cell_type": "code",
   "execution_count": 255,
   "id": "hungarian-learning",
   "metadata": {},
   "outputs": [
    {
     "name": "stdout",
     "output_type": "stream",
     "text": [
      "Model: \"sequential_1\"\n",
      "_________________________________________________________________\n",
      "Layer (type)                 Output Shape              Param #   \n",
      "=================================================================\n",
      "dense_1 (Dense)              (None, 500)               4258500   \n",
      "_________________________________________________________________\n",
      "dense_2 (Dense)              (None, 150)               75150     \n",
      "_________________________________________________________________\n",
      "dense_3 (Dense)              (None, 3)                 453       \n",
      "=================================================================\n",
      "Total params: 4,334,103\n",
      "Trainable params: 4,334,103\n",
      "Non-trainable params: 0\n",
      "_________________________________________________________________\n"
     ]
    }
   ],
   "source": [
    "# Summarize the neural network\n",
    "model_seq.summary()"
   ]
  },
  {
   "cell_type": "code",
   "execution_count": 256,
   "id": "unlike-rocket",
   "metadata": {},
   "outputs": [
    {
     "name": "stdout",
     "output_type": "stream",
     "text": [
      "Epoch 1/100\n",
      "2800/2800 [==============================] - 1s 401us/step - loss: 0.8140 - accuracy: 0.7007\n",
      "Epoch 2/100\n",
      "2800/2800 [==============================] - 1s 370us/step - loss: 0.5665 - accuracy: 0.7296\n",
      "Epoch 3/100\n",
      "2800/2800 [==============================] - 1s 386us/step - loss: 0.3590 - accuracy: 0.8489\n",
      "Epoch 4/100\n",
      "2800/2800 [==============================] - 1s 402us/step - loss: 0.2106 - accuracy: 0.9232\n",
      "Epoch 5/100\n",
      "2800/2800 [==============================] - 1s 370us/step - loss: 0.1384 - accuracy: 0.9468\n",
      "Epoch 6/100\n",
      "2800/2800 [==============================] - 1s 406us/step - loss: 0.0967 - accuracy: 0.9689\n",
      "Epoch 7/100\n",
      "2800/2800 [==============================] - 1s 408us/step - loss: 0.0734 - accuracy: 0.9761\n",
      "Epoch 8/100\n",
      "2800/2800 [==============================] - 1s 381us/step - loss: 0.0611 - accuracy: 0.9811\n",
      "Epoch 9/100\n",
      "2800/2800 [==============================] - 1s 363us/step - loss: 0.0569 - accuracy: 0.9821\n",
      "Epoch 10/100\n",
      "2800/2800 [==============================] - 1s 362us/step - loss: 0.0541 - accuracy: 0.9796\n",
      "Epoch 11/100\n",
      "2800/2800 [==============================] - 1s 375us/step - loss: 0.0519 - accuracy: 0.9814\n",
      "Epoch 12/100\n",
      "2800/2800 [==============================] - 1s 383us/step - loss: 0.0500 - accuracy: 0.9818\n",
      "Epoch 13/100\n",
      "2800/2800 [==============================] - 1s 382us/step - loss: 0.0489 - accuracy: 0.9825\n",
      "Epoch 14/100\n",
      "2800/2800 [==============================] - 1s 377us/step - loss: 0.0476 - accuracy: 0.9821\n",
      "Epoch 15/100\n",
      "2800/2800 [==============================] - 1s 402us/step - loss: 0.0471 - accuracy: 0.9818\n",
      "Epoch 16/100\n",
      "2800/2800 [==============================] - 1s 382us/step - loss: 0.0473 - accuracy: 0.9814\n",
      "Epoch 17/100\n",
      "2800/2800 [==============================] - 1s 390us/step - loss: 0.0476 - accuracy: 0.9814\n",
      "Epoch 18/100\n",
      "2800/2800 [==============================] - 1s 370us/step - loss: 0.0462 - accuracy: 0.9821\n",
      "Epoch 19/100\n",
      "2800/2800 [==============================] - 1s 366us/step - loss: 0.0467 - accuracy: 0.9821\n",
      "Epoch 20/100\n",
      "2800/2800 [==============================] - 1s 364us/step - loss: 0.0462 - accuracy: 0.9825\n",
      "Epoch 21/100\n",
      "2800/2800 [==============================] - 1s 368us/step - loss: 0.0466 - accuracy: 0.9821\n",
      "Epoch 22/100\n",
      "2800/2800 [==============================] - 1s 364us/step - loss: 0.0479 - accuracy: 0.9818\n",
      "Epoch 23/100\n",
      "2800/2800 [==============================] - 1s 363us/step - loss: 0.0463 - accuracy: 0.9825\n",
      "Epoch 24/100\n",
      "2800/2800 [==============================] - 1s 359us/step - loss: 0.0487 - accuracy: 0.9818\n",
      "Epoch 25/100\n",
      "2800/2800 [==============================] - 1s 364us/step - loss: 0.0476 - accuracy: 0.9821\n",
      "Epoch 26/100\n",
      "2800/2800 [==============================] - 1s 361us/step - loss: 0.0511 - accuracy: 0.9825\n",
      "Epoch 27/100\n",
      "2800/2800 [==============================] - 1s 364us/step - loss: 0.0498 - accuracy: 0.9746\n",
      "Epoch 28/100\n",
      "2800/2800 [==============================] - 1s 358us/step - loss: 0.0475 - accuracy: 0.98180s - loss: 0.0449 - accura\n",
      "Epoch 29/100\n",
      "2800/2800 [==============================] - 1s 371us/step - loss: 0.0454 - accuracy: 0.9821\n",
      "Epoch 30/100\n",
      "2800/2800 [==============================] - 1s 359us/step - loss: 0.0460 - accuracy: 0.9814\n",
      "Epoch 31/100\n",
      "2800/2800 [==============================] - 1s 364us/step - loss: 0.0477 - accuracy: 0.9818\n",
      "Epoch 32/100\n",
      "2800/2800 [==============================] - 1s 365us/step - loss: 0.0461 - accuracy: 0.9814\n",
      "Epoch 33/100\n",
      "2800/2800 [==============================] - 1s 365us/step - loss: 0.0445 - accuracy: 0.9825\n",
      "Epoch 34/100\n",
      "2800/2800 [==============================] - 1s 371us/step - loss: 0.0458 - accuracy: 0.9825\n",
      "Epoch 35/100\n",
      "2800/2800 [==============================] - 1s 366us/step - loss: 0.0471 - accuracy: 0.9814\n",
      "Epoch 36/100\n",
      "2800/2800 [==============================] - 1s 361us/step - loss: 0.0488 - accuracy: 0.9818\n",
      "Epoch 37/100\n",
      "2800/2800 [==============================] - 1s 358us/step - loss: 0.0465 - accuracy: 0.9811\n",
      "Epoch 38/100\n",
      "2800/2800 [==============================] - 1s 371us/step - loss: 0.0459 - accuracy: 0.9821\n",
      "Epoch 39/100\n",
      "2800/2800 [==============================] - 1s 383us/step - loss: 0.0449 - accuracy: 0.9818\n",
      "Epoch 40/100\n",
      "2800/2800 [==============================] - 1s 369us/step - loss: 0.0468 - accuracy: 0.9821\n",
      "Epoch 41/100\n",
      "2800/2800 [==============================] - 1s 402us/step - loss: 0.0448 - accuracy: 0.9825\n",
      "Epoch 42/100\n",
      "2800/2800 [==============================] - 1s 396us/step - loss: 0.0456 - accuracy: 0.9814\n",
      "Epoch 43/100\n",
      "2800/2800 [==============================] - 1s 379us/step - loss: 0.0452 - accuracy: 0.9818\n",
      "Epoch 44/100\n",
      "2800/2800 [==============================] - 1s 376us/step - loss: 0.0457 - accuracy: 0.9821\n",
      "Epoch 45/100\n",
      "2800/2800 [==============================] - 1s 369us/step - loss: 0.0452 - accuracy: 0.9825\n",
      "Epoch 46/100\n",
      "2800/2800 [==============================] - 1s 379us/step - loss: 0.0461 - accuracy: 0.98210s - loss: 0.0483 - accu\n",
      "Epoch 47/100\n",
      "2800/2800 [==============================] - 1s 380us/step - loss: 0.0443 - accuracy: 0.9814\n",
      "Epoch 48/100\n",
      "2800/2800 [==============================] - 1s 377us/step - loss: 0.0448 - accuracy: 0.9825\n",
      "Epoch 49/100\n",
      "2800/2800 [==============================] - 1s 382us/step - loss: 0.0466 - accuracy: 0.9814\n",
      "Epoch 50/100\n",
      "2800/2800 [==============================] - 1s 370us/step - loss: 0.0455 - accuracy: 0.9821\n",
      "Epoch 51/100\n",
      "2800/2800 [==============================] - 1s 379us/step - loss: 0.0448 - accuracy: 0.9811\n",
      "Epoch 52/100\n",
      "2800/2800 [==============================] - 1s 381us/step - loss: 0.0451 - accuracy: 0.9821\n",
      "Epoch 53/100\n",
      "2800/2800 [==============================] - 1s 391us/step - loss: 0.0495 - accuracy: 0.9814\n",
      "Epoch 54/100\n",
      "2800/2800 [==============================] - 1s 394us/step - loss: 0.0458 - accuracy: 0.9818\n",
      "Epoch 55/100\n",
      "2800/2800 [==============================] - 1s 360us/step - loss: 0.0459 - accuracy: 0.9814\n",
      "Epoch 56/100\n",
      "2800/2800 [==============================] - 1s 369us/step - loss: 0.0457 - accuracy: 0.9825\n",
      "Epoch 57/100\n",
      "2800/2800 [==============================] - 1s 359us/step - loss: 0.0446 - accuracy: 0.98140s - loss: 0.0469 - accuracy\n",
      "Epoch 58/100\n",
      "2800/2800 [==============================] - 1s 361us/step - loss: 0.0449 - accuracy: 0.9814\n",
      "Epoch 59/100\n",
      "2800/2800 [==============================] - 1s 362us/step - loss: 0.0446 - accuracy: 0.9818\n",
      "Epoch 60/100\n",
      "2800/2800 [==============================] - 1s 361us/step - loss: 0.0453 - accuracy: 0.98210s - loss: 0.0459 - accu\n",
      "Epoch 61/100\n",
      "2800/2800 [==============================] - 1s 359us/step - loss: 0.0449 - accuracy: 0.9829\n",
      "Epoch 62/100\n",
      "2800/2800 [==============================] - 1s 365us/step - loss: 0.0455 - accuracy: 0.9814\n",
      "Epoch 63/100\n",
      "2800/2800 [==============================] - 1s 380us/step - loss: 0.0460 - accuracy: 0.9821\n",
      "Epoch 64/100\n",
      "2800/2800 [==============================] - 1s 394us/step - loss: 0.0452 - accuracy: 0.9821\n",
      "Epoch 65/100\n",
      "2800/2800 [==============================] - 1s 402us/step - loss: 0.0444 - accuracy: 0.9821\n",
      "Epoch 66/100\n",
      "2800/2800 [==============================] - 1s 421us/step - loss: 0.0449 - accuracy: 0.9818\n",
      "Epoch 67/100\n",
      "2800/2800 [==============================] - 1s 401us/step - loss: 0.0447 - accuracy: 0.9818\n",
      "Epoch 68/100\n",
      "2800/2800 [==============================] - 1s 401us/step - loss: 0.0446 - accuracy: 0.9825\n",
      "Epoch 69/100\n",
      "2800/2800 [==============================] - 1s 404us/step - loss: 0.0452 - accuracy: 0.9818\n",
      "Epoch 70/100\n",
      "2800/2800 [==============================] - 1s 408us/step - loss: 0.0461 - accuracy: 0.9825\n",
      "Epoch 71/100\n",
      "2800/2800 [==============================] - 1s 407us/step - loss: 0.0441 - accuracy: 0.9821\n",
      "Epoch 72/100\n",
      "2800/2800 [==============================] - 1s 407us/step - loss: 0.0450 - accuracy: 0.9825\n",
      "Epoch 73/100\n",
      "2800/2800 [==============================] - 1s 401us/step - loss: 0.0456 - accuracy: 0.9818\n",
      "Epoch 74/100\n",
      "2800/2800 [==============================] - 1s 393us/step - loss: 0.0458 - accuracy: 0.9829\n",
      "Epoch 75/100\n",
      "2800/2800 [==============================] - 1s 399us/step - loss: 0.0442 - accuracy: 0.9825\n",
      "Epoch 76/100\n",
      "2800/2800 [==============================] - 1s 402us/step - loss: 0.0449 - accuracy: 0.9818\n",
      "Epoch 77/100\n",
      "2800/2800 [==============================] - 1s 388us/step - loss: 0.0446 - accuracy: 0.9818\n",
      "Epoch 78/100\n",
      "2800/2800 [==============================] - 1s 404us/step - loss: 0.0443 - accuracy: 0.9818\n",
      "Epoch 79/100\n",
      "2800/2800 [==============================] - 1s 391us/step - loss: 0.0440 - accuracy: 0.9829\n",
      "Epoch 80/100\n",
      "2800/2800 [==============================] - 1s 376us/step - loss: 0.0446 - accuracy: 0.9829\n",
      "Epoch 81/100\n",
      "2800/2800 [==============================] - 1s 377us/step - loss: 0.0448 - accuracy: 0.9821\n",
      "Epoch 82/100\n",
      "2800/2800 [==============================] - 1s 380us/step - loss: 0.0451 - accuracy: 0.9814\n",
      "Epoch 83/100\n",
      "2800/2800 [==============================] - 1s 379us/step - loss: 0.0443 - accuracy: 0.9818\n",
      "Epoch 84/100\n",
      "2800/2800 [==============================] - 1s 378us/step - loss: 0.0448 - accuracy: 0.9825\n",
      "Epoch 85/100\n",
      "2800/2800 [==============================] - 1s 369us/step - loss: 0.0445 - accuracy: 0.9818\n",
      "Epoch 86/100\n",
      "2800/2800 [==============================] - 1s 367us/step - loss: 0.0453 - accuracy: 0.9814\n",
      "Epoch 87/100\n",
      "2800/2800 [==============================] - 1s 369us/step - loss: 0.0444 - accuracy: 0.9821\n",
      "Epoch 88/100\n",
      "2800/2800 [==============================] - 1s 370us/step - loss: 0.0446 - accuracy: 0.9821\n",
      "Epoch 89/100\n",
      "2800/2800 [==============================] - 1s 369us/step - loss: 0.0454 - accuracy: 0.9818\n",
      "Epoch 90/100\n",
      "2800/2800 [==============================] - 1s 373us/step - loss: 0.0443 - accuracy: 0.9818\n",
      "Epoch 91/100\n",
      "2800/2800 [==============================] - 1s 368us/step - loss: 0.0446 - accuracy: 0.9818\n",
      "Epoch 92/100\n",
      "2800/2800 [==============================] - 1s 374us/step - loss: 0.0446 - accuracy: 0.9825\n",
      "Epoch 93/100\n",
      "2800/2800 [==============================] - 1s 365us/step - loss: 0.0442 - accuracy: 0.9825\n",
      "Epoch 94/100\n",
      "2800/2800 [==============================] - 1s 381us/step - loss: 0.0443 - accuracy: 0.9818\n",
      "Epoch 95/100\n",
      "2800/2800 [==============================] - 1s 372us/step - loss: 0.0446 - accuracy: 0.9814\n",
      "Epoch 96/100\n",
      "2800/2800 [==============================] - 1s 369us/step - loss: 0.0445 - accuracy: 0.9829\n",
      "Epoch 97/100\n",
      "2800/2800 [==============================] - 1s 397us/step - loss: 0.0444 - accuracy: 0.9821\n",
      "Epoch 98/100\n",
      "2800/2800 [==============================] - 1s 373us/step - loss: 0.0449 - accuracy: 0.9821\n",
      "Epoch 99/100\n",
      "2800/2800 [==============================] - 1s 372us/step - loss: 0.0445 - accuracy: 0.9814\n",
      "Epoch 100/100\n",
      "2800/2800 [==============================] - 1s 373us/step - loss: 0.0444 - accuracy: 0.9814\n"
     ]
    },
    {
     "data": {
      "text/plain": [
       "<keras.callbacks.callbacks.History at 0x26662e98708>"
      ]
     },
     "execution_count": 256,
     "metadata": {},
     "output_type": "execute_result"
    }
   ],
   "source": [
    "# Fit the model\n",
    "\n",
    "model_seq.fit(X_train, y_train, batch_size = 128, epochs = 100)"
   ]
  },
  {
   "cell_type": "code",
   "execution_count": 257,
   "id": "opponent-monthly",
   "metadata": {},
   "outputs": [],
   "source": [
    "# predict the value\n",
    "\n",
    "y_pred = model_seq.predict(X_test)"
   ]
  },
  {
   "cell_type": "code",
   "execution_count": 258,
   "id": "dutch-national",
   "metadata": {},
   "outputs": [
    {
     "name": "stdout",
     "output_type": "stream",
     "text": [
      "Training Accuracy: 0.9825\n",
      "Testing Accuracy:  0.7158\n"
     ]
    }
   ],
   "source": [
    "# Calculate the accuracy metrics (additional scoring below, wanted to test this out)\n",
    "loss, accuracy = model_seq.evaluate(X_train, y_train, verbose=False)\n",
    "print(\"Training Accuracy: {:.4f}\".format(accuracy))\n",
    "loss, accuracy = model_seq.evaluate(X_test, y_test, verbose=False)\n",
    "print(\"Testing Accuracy:  {:.4f}\".format(accuracy))\n",
    "\n"
   ]
  },
  {
   "cell_type": "code",
   "execution_count": null,
   "id": "labeled-saturn",
   "metadata": {},
   "outputs": [],
   "source": [
    "# Create a function to convert to string categories\n",
    "\n",
    "y_category=[]\n",
    "\n",
    "def convert_back(x):\n",
    "    \n",
    "    for i in x:\n",
    "        if i == 0:\n",
    "            i = 'video_games'\n",
    "            y_category.append(i)\n",
    "\n",
    "        elif i == 1:\n",
    "            i = 'sports'\n",
    "            y_category.append(i)\n",
    "            \n",
    "        elif i == 2:\n",
    "            i = 'science_and_technology'\n",
    "            y_category.append(i)\n",
    "    \n",
    "    return y_category"
   ]
  },
  {
   "cell_type": "code",
   "execution_count": null,
   "id": "precious-interim",
   "metadata": {},
   "outputs": [],
   "source": [
    "# Convert the one-hot encoded labels back to a single category number\n",
    "\n",
    "y_pred_class = np.argmax(y_pred, axis = 1)\n",
    "y_test_class = np.argmax(y_test, axis = 1)"
   ]
  },
  {
   "cell_type": "code",
   "execution_count": null,
   "id": "naughty-screen",
   "metadata": {},
   "outputs": [],
   "source": [
    "# Convert the numeric categories to string values\n",
    "\n",
    "y_pred_to_class = convert_back(y_pred_class)\n",
    "y_test_to_class = convert_back(y_test_class)"
   ]
  },
  {
   "cell_type": "code",
   "execution_count": 371,
   "id": "burning-primary",
   "metadata": {},
   "outputs": [
    {
     "name": "stdout",
     "output_type": "stream",
     "text": [
      "Predicted length: 1200\n",
      "Test length: 1200\n"
     ]
    }
   ],
   "source": [
    "# Ensure the conversion went to the proper length\n",
    "\n",
    "print('Predicted length:', len(y_pred_to_class))\n",
    "print('Test length:', len(y_test_to_class))"
   ]
  },
  {
   "cell_type": "code",
   "execution_count": 404,
   "id": "structured-deputy",
   "metadata": {
    "scrolled": true
   },
   "outputs": [
    {
     "name": "stdout",
     "output_type": "stream",
     "text": [
      "Accuracy Score = 71.58333333333333\n",
      "Precision Score = 71.58333333333333\n",
      "F1 Score = 71.58333333333334\n"
     ]
    }
   ],
   "source": [
    "# Calculate scoring\n",
    "\n",
    "acc_score2 = accuracy_score(y_test_to_class, y_pred_to_class)*100\n",
    "prec_score2 = precision_score(y_test_to_class, y_pred_to_class, average='micro')*100\n",
    "f1score2 = f1_score(y_test_to_class, y_pred_to_class, average = 'micro')*100\n",
    "\n",
    "print('Accuracy Score =', acc_score2)\n",
    "print('Precision Score =', prec_score2)\n",
    "print('F1 Score =', f1score2)"
   ]
  },
  {
   "cell_type": "code",
   "execution_count": 403,
   "id": "planned-canon",
   "metadata": {},
   "outputs": [
    {
     "name": "stdout",
     "output_type": "stream",
     "text": [
      "precision [0.3        0.54464286 0.76464435]\n",
      "recall [0.11111111 0.39869281 0.8702381 ]\n",
      "fscpre [0.16216216 0.46037736 0.81403118]\n",
      "support [ 54 306 840]\n"
     ]
    }
   ],
   "source": [
    "# Calculate scoring using precision_recall_fscore_support\n",
    "# Wanted to test this approach out, something I read about \n",
    "\n",
    "from sklearn.metrics import precision_recall_fscore_support as score\n",
    "\n",
    "precision, recall, fscore, support = score(y_test_to_class, y_pred_to_class)\n",
    "\n",
    "print('precision', precision)\n",
    "print('recall', recall)\n",
    "print('fscpre', fscore)\n",
    "print('support', support)\n",
    "\n",
    "# This scoring provides a interesting perspective on the unbalanced data, compared to the average scoring."
   ]
  },
  {
   "cell_type": "code",
   "execution_count": 253,
   "id": "gorgeous-laugh",
   "metadata": {},
   "outputs": [],
   "source": [
    "# Clears the session\n",
    "clear_session()"
   ]
  },
  {
   "cell_type": "code",
   "execution_count": 262,
   "id": "pharmaceutical-syndicate",
   "metadata": {},
   "outputs": [
    {
     "data": {
      "text/plain": [
       "['video_games', 'sports', 'science_and_technology']"
      ]
     },
     "execution_count": 262,
     "metadata": {},
     "output_type": "execute_result"
    }
   ],
   "source": [
    "# view the categories\n",
    "classes"
   ]
  },
  {
   "cell_type": "code",
   "execution_count": 357,
   "id": "united-berry",
   "metadata": {},
   "outputs": [
    {
     "data": {
      "text/plain": [
       "[Text(0, 0.5, 'science_and_technology'),\n",
       " Text(0, 1.5, 'sports'),\n",
       " Text(0, 2.5, 'video_games')]"
      ]
     },
     "execution_count": 357,
     "metadata": {},
     "output_type": "execute_result"
    },
    {
     "data": {
      "image/png": "[encoded data removed]",
      "text/plain": [
       "<Figure size 432x288 with 2 Axes>"
      ]
     },
     "metadata": {
      "needs_background": "light"
     },
     "output_type": "display_data"
    }
   ],
   "source": [
    "ax= plt.subplot()\n",
    "sns.heatmap(cm, annot=True, ax = ax, fmt=\".0f\"); #annot=True to annotate cells\n",
    "\n",
    "# labels, title and ticks\n",
    "ax.set_xlabel('Predicted labels');ax.set_ylabel('True labels') \n",
    "ax.set_title('Confusion Matrix') \n",
    "ax.xaxis.set_ticklabels(['science_and_technology', 'sports', 'video_games'])\n",
    "ax.yaxis.set_ticklabels(['science_and_technology', 'sports', 'video_games'])\n"
   ]
  },
  {
   "cell_type": "markdown",
   "id": "flexible-colorado",
   "metadata": {},
   "source": [
    "## 3. Classifying Images"
   ]
  },
  {
   "cell_type": "code",
   "execution_count": 372,
   "id": "continuous-royal",
   "metadata": {},
   "outputs": [],
   "source": [
    "# Import the libraries\n",
    "\n",
    "import numpy as np\n",
    "from keras.datasets import mnist\n",
    "from keras.models import Sequential\n",
    "from keras.layers import Dense, Dropout, Flatten\n",
    "from keras.layers.convolutional import Conv2D, MaxPooling2D\n",
    "from keras.utils import np_utils\n",
    "from keras import backend as K\n",
    "\n"
   ]
  },
  {
   "cell_type": "code",
   "execution_count": 373,
   "id": "attached-racing",
   "metadata": {},
   "outputs": [],
   "source": [
    "# Set that the color channel value will be first\n",
    "K.set_image_data_format(\"channels_first\")\n",
    "\n",
    "# Set the seed\n",
    "np.random.seed(0)"
   ]
  },
  {
   "cell_type": "code",
   "execution_count": 374,
   "id": "norwegian-characterization",
   "metadata": {},
   "outputs": [],
   "source": [
    "# Set the image information\n",
    "channels = 1\n",
    "height = 28\n",
    "width = 28\n"
   ]
  },
  {
   "cell_type": "code",
   "execution_count": 375,
   "id": "miniature-basis",
   "metadata": {},
   "outputs": [
    {
     "name": "stdout",
     "output_type": "stream",
     "text": [
      "Downloading data from https://s3.amazonaws.com/img-datasets/mnist.npz\n",
      "11493376/11490434 [==============================] - 1s 0us/step\n"
     ]
    }
   ],
   "source": [
    "# Load data and target from MNIST data\n",
    "\n",
    "(data_train, target_train), (data_test, target_test) = mnist.load_data()\n"
   ]
  },
  {
   "cell_type": "code",
   "execution_count": 376,
   "id": "acceptable-yacht",
   "metadata": {},
   "outputs": [],
   "source": [
    "# Reshape training image data into features\n",
    "data_train = data_train.reshape(data_train.shape[0], channels, height, width)\n",
    "\n",
    "# Reshape test image data into features\n",
    "data_test = data_test.reshape(data_test.shape[0], channels, height, width)\n"
   ]
  },
  {
   "cell_type": "code",
   "execution_count": 377,
   "id": "cardiovascular-console",
   "metadata": {},
   "outputs": [],
   "source": [
    "# Rescale pixel intensity to between 0 and 1\n",
    "features_train = data_train / 255\n",
    "features_test = data_test / 255\n"
   ]
  },
  {
   "cell_type": "code",
   "execution_count": 378,
   "id": "pursuant-violation",
   "metadata": {},
   "outputs": [],
   "source": [
    "# One-hot encode target\n",
    "target_train = np_utils.to_categorical(target_train)\n",
    "target_test = np_utils.to_categorical(target_test)\n",
    "number_of_classes = target_test.shape[1]\n"
   ]
  },
  {
   "cell_type": "code",
   "execution_count": 380,
   "id": "complimentary-chancellor",
   "metadata": {},
   "outputs": [
    {
     "name": "stdout",
     "output_type": "stream",
     "text": [
      "WARNING:tensorflow:From E:\\Anaconda\\lib\\site-packages\\keras\\backend\\tensorflow_backend.py:4070: The name tf.nn.max_pool is deprecated. Please use tf.nn.max_pool2d instead.\n",
      "\n"
     ]
    }
   ],
   "source": [
    "# Start neural network\n",
    "network = Sequential()\n",
    "\n",
    "# Add convolutional layer with 64 filters, a 5x5 window, and ReLU activation function\n",
    "network.add(Conv2D(filters=64,\n",
    "                   kernel_size=(5, 5),\n",
    "                   input_shape=(channels, width, height),\n",
    "                   activation='relu'))\n",
    "\n",
    "# Add max pooling layer with a 2x2 window\n",
    "network.add(MaxPooling2D(pool_size=(2, 2)))\n",
    "\n",
    "# Add dropout layer\n",
    "network.add(Dropout(0.5))\n",
    "\n",
    "# Add layer to flatten input\n",
    "network.add(Flatten())\n",
    "\n",
    "# # Add fully connected layer of 128 units with a ReLU activation function\n",
    "network.add(Dense(128, activation=\"relu\"))\n",
    "\n",
    "# Add dropout layer\n",
    "network.add(Dropout(0.5))\n",
    "\n",
    "# Add fully connected layer with a softmax activation function\n",
    "network.add(Dense(number_of_classes, activation = 'softmax'))\n"
   ]
  },
  {
   "cell_type": "code",
   "execution_count": 381,
   "id": "dying-probe",
   "metadata": {},
   "outputs": [],
   "source": [
    "# Complile the neural network\n",
    "\n",
    "network.compile(loss = 'categorical_crossentropy',\n",
    "               optimizer = 'rmsprop',\n",
    "               metrics = ['accuracy'])"
   ]
  },
  {
   "cell_type": "code",
   "execution_count": 382,
   "id": "virtual-trading",
   "metadata": {},
   "outputs": [
    {
     "data": {
      "text/plain": [
       "<keras.callbacks.callbacks.History at 0x2665b977c88>"
      ]
     },
     "execution_count": 382,
     "metadata": {},
     "output_type": "execute_result"
    }
   ],
   "source": [
    "# Train the neural network\n",
    "network.fit(features_train, target_train, epochs = 2, verbose = 0, \n",
    "            batch_size = 1000, validation_data = (features_test, target_test))"
   ]
  },
  {
   "cell_type": "code",
   "execution_count": 383,
   "id": "bored-reservation",
   "metadata": {},
   "outputs": [
    {
     "name": "stdout",
     "output_type": "stream",
     "text": [
      "Model: \"sequential_2\"\n",
      "_________________________________________________________________\n",
      "Layer (type)                 Output Shape              Param #   \n",
      "=================================================================\n",
      "conv2d_1 (Conv2D)            (None, 64, 24, 24)        1664      \n",
      "_________________________________________________________________\n",
      "max_pooling2d_1 (MaxPooling2 (None, 64, 12, 12)        0         \n",
      "_________________________________________________________________\n",
      "dropout_1 (Dropout)          (None, 64, 12, 12)        0         \n",
      "_________________________________________________________________\n",
      "flatten_1 (Flatten)          (None, 9216)              0         \n",
      "_________________________________________________________________\n",
      "dense_4 (Dense)              (None, 128)               1179776   \n",
      "_________________________________________________________________\n",
      "dropout_2 (Dropout)          (None, 128)               0         \n",
      "_________________________________________________________________\n",
      "dense_5 (Dense)              (None, 10)                1290      \n",
      "=================================================================\n",
      "Total params: 1,182,730\n",
      "Trainable params: 1,182,730\n",
      "Non-trainable params: 0\n",
      "_________________________________________________________________\n"
     ]
    }
   ],
   "source": [
    "# Summary of the neural network\n",
    "network.summary()"
   ]
  },
  {
   "cell_type": "code",
   "execution_count": 387,
   "id": "innocent-slovenia",
   "metadata": {},
   "outputs": [
    {
     "name": "stdout",
     "output_type": "stream",
     "text": [
      "Training Accuracy: 0.9694\n",
      "Testing Accuracy:  0.9685\n"
     ]
    }
   ],
   "source": [
    "# Calculate the accuracy results\n",
    "\n",
    "loss, accuracy = network.evaluate(data_train, target_train, verbose=False)\n",
    "print(\"Training Accuracy: {:.4f}\".format(accuracy))\n",
    "loss, accuracy = network.evaluate(data_test, target_test, verbose=False)\n",
    "print(\"Testing Accuracy:  {:.4f}\".format(accuracy))\n"
   ]
  },
  {
   "cell_type": "code",
   "execution_count": null,
   "id": "complete-bride",
   "metadata": {},
   "outputs": [],
   "source": []
  }
 ],
 "metadata": {
  "kernelspec": {
   "display_name": "Python 3",
   "language": "python",
   "name": "python3"
  },
  "language_info": {
   "codemirror_mode": {
    "name": "ipython",
    "version": 3
   },
   "file_extension": ".py",
   "mimetype": "text/x-python",
   "name": "python",
   "nbconvert_exporter": "python",
   "pygments_lexer": "ipython3",
   "version": "3.7.4"
  }
 },
 "nbformat": 4,
 "nbformat_minor": 5
}
