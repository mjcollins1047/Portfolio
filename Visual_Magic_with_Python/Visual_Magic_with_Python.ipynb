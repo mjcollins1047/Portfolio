{
 "cells": [
  {
   "cell_type": "code",
   "execution_count": 104,
   "metadata": {},
   "outputs": [],
   "source": [
    "import pandas as pd\n",
    "import geopandas as gpd\n",
    "import matplotlib.pyplot as plt\n",
    "from shapely.geometry import Point, Polygon\n",
    "from geopandas import GeoDataFrame as gdf\n",
    "import numpy as np\n",
    "import seaborn as sns\n",
    "\n",
    "#import geoplot as gplt"
   ]
  },
  {
   "cell_type": "code",
   "execution_count": 16,
   "metadata": {},
   "outputs": [],
   "source": [
    "df = pd.read_csv('costcos-geocoded.csv')"
   ]
  },
  {
   "cell_type": "code",
   "execution_count": 17,
   "metadata": {},
   "outputs": [
    {
     "data": {
      "text/html": [
       "<div>\n",
       "<style scoped>\n",
       "    .dataframe tbody tr th:only-of-type {\n",
       "        vertical-align: middle;\n",
       "    }\n",
       "\n",
       "    .dataframe tbody tr th {\n",
       "        vertical-align: top;\n",
       "    }\n",
       "\n",
       "    .dataframe thead th {\n",
       "        text-align: right;\n",
       "    }\n",
       "</style>\n",
       "<table border=\"1\" class=\"dataframe\">\n",
       "  <thead>\n",
       "    <tr style=\"text-align: right;\">\n",
       "      <th></th>\n",
       "      <th>Address</th>\n",
       "      <th>City</th>\n",
       "      <th>State</th>\n",
       "      <th>Zip Code</th>\n",
       "      <th>Latitude</th>\n",
       "      <th>Longitude</th>\n",
       "    </tr>\n",
       "  </thead>\n",
       "  <tbody>\n",
       "    <tr>\n",
       "      <th>0</th>\n",
       "      <td>1205 N. Memorial Parkway</td>\n",
       "      <td>Huntsville</td>\n",
       "      <td>Alabama</td>\n",
       "      <td>35801-5930</td>\n",
       "      <td>34.743095</td>\n",
       "      <td>-86.600955</td>\n",
       "    </tr>\n",
       "    <tr>\n",
       "      <th>1</th>\n",
       "      <td>3650 Galleria Circle</td>\n",
       "      <td>Hoover</td>\n",
       "      <td>Alabama</td>\n",
       "      <td>35244-2346</td>\n",
       "      <td>33.377649</td>\n",
       "      <td>-86.812420</td>\n",
       "    </tr>\n",
       "    <tr>\n",
       "      <th>2</th>\n",
       "      <td>8251 Eastchase Parkway</td>\n",
       "      <td>Montgomery</td>\n",
       "      <td>Alabama</td>\n",
       "      <td>36117</td>\n",
       "      <td>32.363889</td>\n",
       "      <td>-86.150884</td>\n",
       "    </tr>\n",
       "    <tr>\n",
       "      <th>3</th>\n",
       "      <td>5225 Commercial Boulevard</td>\n",
       "      <td>Juneau</td>\n",
       "      <td>Alaska</td>\n",
       "      <td>99801-7210</td>\n",
       "      <td>58.359200</td>\n",
       "      <td>-134.483000</td>\n",
       "    </tr>\n",
       "    <tr>\n",
       "      <th>4</th>\n",
       "      <td>330 West Dimond Blvd</td>\n",
       "      <td>Anchorage</td>\n",
       "      <td>Alaska</td>\n",
       "      <td>99515-1950</td>\n",
       "      <td>61.143266</td>\n",
       "      <td>-149.884217</td>\n",
       "    </tr>\n",
       "  </tbody>\n",
       "</table>\n",
       "</div>"
      ],
      "text/plain": [
       "                     Address        City    State    Zip Code   Latitude  \\\n",
       "0   1205 N. Memorial Parkway  Huntsville  Alabama  35801-5930  34.743095   \n",
       "1       3650 Galleria Circle      Hoover  Alabama  35244-2346  33.377649   \n",
       "2     8251 Eastchase Parkway  Montgomery  Alabama       36117  32.363889   \n",
       "3  5225 Commercial Boulevard      Juneau   Alaska  99801-7210  58.359200   \n",
       "4       330 West Dimond Blvd   Anchorage   Alaska  99515-1950  61.143266   \n",
       "\n",
       "    Longitude  \n",
       "0  -86.600955  \n",
       "1  -86.812420  \n",
       "2  -86.150884  \n",
       "3 -134.483000  \n",
       "4 -149.884217  "
      ]
     },
     "execution_count": 17,
     "metadata": {},
     "output_type": "execute_result"
    }
   ],
   "source": [
    "df.head()"
   ]
  },
  {
   "cell_type": "code",
   "execution_count": 18,
   "metadata": {},
   "outputs": [
    {
     "data": {
      "text/html": [
       "<div>\n",
       "<style scoped>\n",
       "    .dataframe tbody tr th:only-of-type {\n",
       "        vertical-align: middle;\n",
       "    }\n",
       "\n",
       "    .dataframe tbody tr th {\n",
       "        vertical-align: top;\n",
       "    }\n",
       "\n",
       "    .dataframe thead th {\n",
       "        text-align: right;\n",
       "    }\n",
       "</style>\n",
       "<table border=\"1\" class=\"dataframe\">\n",
       "  <thead>\n",
       "    <tr style=\"text-align: right;\">\n",
       "      <th></th>\n",
       "      <th>STATEFP</th>\n",
       "      <th>STATENS</th>\n",
       "      <th>AFFGEOID</th>\n",
       "      <th>GEOID</th>\n",
       "      <th>STUSPS</th>\n",
       "      <th>NAME</th>\n",
       "      <th>LSAD</th>\n",
       "      <th>ALAND</th>\n",
       "      <th>AWATER</th>\n",
       "      <th>geometry</th>\n",
       "    </tr>\n",
       "  </thead>\n",
       "  <tbody>\n",
       "    <tr>\n",
       "      <th>0</th>\n",
       "      <td>24</td>\n",
       "      <td>01714934</td>\n",
       "      <td>0400000US24</td>\n",
       "      <td>24</td>\n",
       "      <td>MD</td>\n",
       "      <td>Maryland</td>\n",
       "      <td>00</td>\n",
       "      <td>25151100280</td>\n",
       "      <td>6979966958</td>\n",
       "      <td>MULTIPOLYGON (((-76.04621 38.02553, -76.00734 ...</td>\n",
       "    </tr>\n",
       "    <tr>\n",
       "      <th>1</th>\n",
       "      <td>19</td>\n",
       "      <td>01779785</td>\n",
       "      <td>0400000US19</td>\n",
       "      <td>19</td>\n",
       "      <td>IA</td>\n",
       "      <td>Iowa</td>\n",
       "      <td>00</td>\n",
       "      <td>144661267977</td>\n",
       "      <td>1084180812</td>\n",
       "      <td>POLYGON ((-96.62187 42.77925, -96.57794 42.827...</td>\n",
       "    </tr>\n",
       "    <tr>\n",
       "      <th>2</th>\n",
       "      <td>10</td>\n",
       "      <td>01779781</td>\n",
       "      <td>0400000US10</td>\n",
       "      <td>10</td>\n",
       "      <td>DE</td>\n",
       "      <td>Delaware</td>\n",
       "      <td>00</td>\n",
       "      <td>5045925646</td>\n",
       "      <td>1399985648</td>\n",
       "      <td>POLYGON ((-75.77379 39.72220, -75.75323 39.757...</td>\n",
       "    </tr>\n",
       "    <tr>\n",
       "      <th>3</th>\n",
       "      <td>39</td>\n",
       "      <td>01085497</td>\n",
       "      <td>0400000US39</td>\n",
       "      <td>39</td>\n",
       "      <td>OH</td>\n",
       "      <td>Ohio</td>\n",
       "      <td>00</td>\n",
       "      <td>105828882568</td>\n",
       "      <td>10268850702</td>\n",
       "      <td>MULTIPOLYGON (((-82.86334 41.69369, -82.82572 ...</td>\n",
       "    </tr>\n",
       "    <tr>\n",
       "      <th>4</th>\n",
       "      <td>42</td>\n",
       "      <td>01779798</td>\n",
       "      <td>0400000US42</td>\n",
       "      <td>42</td>\n",
       "      <td>PA</td>\n",
       "      <td>Pennsylvania</td>\n",
       "      <td>00</td>\n",
       "      <td>115884442321</td>\n",
       "      <td>3394589990</td>\n",
       "      <td>POLYGON ((-80.51989 40.90666, -80.51964 40.987...</td>\n",
       "    </tr>\n",
       "  </tbody>\n",
       "</table>\n",
       "</div>"
      ],
      "text/plain": [
       "  STATEFP   STATENS     AFFGEOID GEOID STUSPS          NAME LSAD  \\\n",
       "0      24  01714934  0400000US24    24     MD      Maryland   00   \n",
       "1      19  01779785  0400000US19    19     IA          Iowa   00   \n",
       "2      10  01779781  0400000US10    10     DE      Delaware   00   \n",
       "3      39  01085497  0400000US39    39     OH          Ohio   00   \n",
       "4      42  01779798  0400000US42    42     PA  Pennsylvania   00   \n",
       "\n",
       "          ALAND       AWATER  \\\n",
       "0   25151100280   6979966958   \n",
       "1  144661267977   1084180812   \n",
       "2    5045925646   1399985648   \n",
       "3  105828882568  10268850702   \n",
       "4  115884442321   3394589990   \n",
       "\n",
       "                                            geometry  \n",
       "0  MULTIPOLYGON (((-76.04621 38.02553, -76.00734 ...  \n",
       "1  POLYGON ((-96.62187 42.77925, -96.57794 42.827...  \n",
       "2  POLYGON ((-75.77379 39.72220, -75.75323 39.757...  \n",
       "3  MULTIPOLYGON (((-82.86334 41.69369, -82.82572 ...  \n",
       "4  POLYGON ((-80.51989 40.90666, -80.51964 40.987...  "
      ]
     },
     "execution_count": 18,
     "metadata": {},
     "output_type": "execute_result"
    }
   ],
   "source": [
    "usa = gpd.read_file(\"cb_2018_us_state_20m.shp\")\n",
    "usa.head()"
   ]
  },
  {
   "cell_type": "code",
   "execution_count": 69,
   "metadata": {},
   "outputs": [
    {
     "data": {
      "text/plain": [
       "<AxesSubplot:>"
      ]
     },
     "execution_count": 69,
     "metadata": {},
     "output_type": "execute_result"
    },
    {
     "data": {
      "image/png": "[encoded data removed]",
      "text/plain": [
       "<Figure size 1440x360 with 1 Axes>"
      ]
     },
     "metadata": {
      "needs_background": "light"
     },
     "output_type": "display_data"
    }
   ],
   "source": [
    "fig, ax = plt.subplots(figsize = (20, 5))\n",
    "usa.plot(ax = ax)"
   ]
  },
  {
   "cell_type": "code",
   "execution_count": 34,
   "metadata": {},
   "outputs": [
    {
     "data": {
      "text/plain": [
       "<AxesSubplot:>"
      ]
     },
     "execution_count": 34,
     "metadata": {},
     "output_type": "execute_result"
    },
    {
     "data": {
      "image/png": "[encoded data removed]",
      "text/plain": [
       "<Figure size 720x360 with 1 Axes>"
      ]
     },
     "metadata": {
      "needs_background": "light"
     },
     "output_type": "display_data"
    }
   ],
   "source": [
    "fig, ax1 = plt.subplots(figsize = (10, 5))\n",
    "usa.plot(ax = ax1)\n",
    "df.plot(ax = ax1, marker = 'o', color = 'red')\n"
   ]
  },
  {
   "cell_type": "code",
   "execution_count": 71,
   "metadata": {},
   "outputs": [],
   "source": [
    "geometry = [Point(xy) for xy in zip(df['Longitude'], df['Latitude'])]\n",
    "crs = {'init': 'epsg:4326'}"
   ]
  },
  {
   "cell_type": "code",
   "execution_count": 72,
   "metadata": {},
   "outputs": [],
   "source": [
    "geo_df = gpd.GeoDataFrame(df, crs = crs, geometry = geometry)"
   ]
  },
  {
   "cell_type": "code",
   "execution_count": 73,
   "metadata": {},
   "outputs": [
    {
     "data": {
      "text/html": [
       "<div>\n",
       "<style scoped>\n",
       "    .dataframe tbody tr th:only-of-type {\n",
       "        vertical-align: middle;\n",
       "    }\n",
       "\n",
       "    .dataframe tbody tr th {\n",
       "        vertical-align: top;\n",
       "    }\n",
       "\n",
       "    .dataframe thead th {\n",
       "        text-align: right;\n",
       "    }\n",
       "</style>\n",
       "<table border=\"1\" class=\"dataframe\">\n",
       "  <thead>\n",
       "    <tr style=\"text-align: right;\">\n",
       "      <th></th>\n",
       "      <th>Address</th>\n",
       "      <th>City</th>\n",
       "      <th>State</th>\n",
       "      <th>Zip Code</th>\n",
       "      <th>Latitude</th>\n",
       "      <th>Longitude</th>\n",
       "      <th>geometry</th>\n",
       "    </tr>\n",
       "  </thead>\n",
       "  <tbody>\n",
       "    <tr>\n",
       "      <th>0</th>\n",
       "      <td>1205 N. Memorial Parkway</td>\n",
       "      <td>Huntsville</td>\n",
       "      <td>Alabama</td>\n",
       "      <td>35801-5930</td>\n",
       "      <td>34.743095</td>\n",
       "      <td>-86.600955</td>\n",
       "      <td>POINT (-86.60096 34.74309)</td>\n",
       "    </tr>\n",
       "    <tr>\n",
       "      <th>1</th>\n",
       "      <td>3650 Galleria Circle</td>\n",
       "      <td>Hoover</td>\n",
       "      <td>Alabama</td>\n",
       "      <td>35244-2346</td>\n",
       "      <td>33.377649</td>\n",
       "      <td>-86.812420</td>\n",
       "      <td>POINT (-86.81242 33.37765)</td>\n",
       "    </tr>\n",
       "    <tr>\n",
       "      <th>2</th>\n",
       "      <td>8251 Eastchase Parkway</td>\n",
       "      <td>Montgomery</td>\n",
       "      <td>Alabama</td>\n",
       "      <td>36117</td>\n",
       "      <td>32.363889</td>\n",
       "      <td>-86.150884</td>\n",
       "      <td>POINT (-86.15088 32.36389)</td>\n",
       "    </tr>\n",
       "    <tr>\n",
       "      <th>3</th>\n",
       "      <td>5225 Commercial Boulevard</td>\n",
       "      <td>Juneau</td>\n",
       "      <td>Alaska</td>\n",
       "      <td>99801-7210</td>\n",
       "      <td>58.359200</td>\n",
       "      <td>-134.483000</td>\n",
       "      <td>POINT (-134.48300 58.35920)</td>\n",
       "    </tr>\n",
       "    <tr>\n",
       "      <th>4</th>\n",
       "      <td>330 West Dimond Blvd</td>\n",
       "      <td>Anchorage</td>\n",
       "      <td>Alaska</td>\n",
       "      <td>99515-1950</td>\n",
       "      <td>61.143266</td>\n",
       "      <td>-149.884217</td>\n",
       "      <td>POINT (-149.88422 61.14327)</td>\n",
       "    </tr>\n",
       "  </tbody>\n",
       "</table>\n",
       "</div>"
      ],
      "text/plain": [
       "                     Address        City    State    Zip Code   Latitude  \\\n",
       "0   1205 N. Memorial Parkway  Huntsville  Alabama  35801-5930  34.743095   \n",
       "1       3650 Galleria Circle      Hoover  Alabama  35244-2346  33.377649   \n",
       "2     8251 Eastchase Parkway  Montgomery  Alabama       36117  32.363889   \n",
       "3  5225 Commercial Boulevard      Juneau   Alaska  99801-7210  58.359200   \n",
       "4       330 West Dimond Blvd   Anchorage   Alaska  99515-1950  61.143266   \n",
       "\n",
       "    Longitude                     geometry  \n",
       "0  -86.600955   POINT (-86.60096 34.74309)  \n",
       "1  -86.812420   POINT (-86.81242 33.37765)  \n",
       "2  -86.150884   POINT (-86.15088 32.36389)  \n",
       "3 -134.483000  POINT (-134.48300 58.35920)  \n",
       "4 -149.884217  POINT (-149.88422 61.14327)  "
      ]
     },
     "execution_count": 73,
     "metadata": {},
     "output_type": "execute_result"
    }
   ],
   "source": [
    "geo_df.head()"
   ]
  },
  {
   "cell_type": "code",
   "execution_count": 78,
   "metadata": {},
   "outputs": [
    {
     "data": {
      "image/png": "[encoded data removed]",
      "text/plain": [
       "<Figure size 1440x720 with 1 Axes>"
      ]
     },
     "metadata": {
      "needs_background": "light"
     },
     "output_type": "display_data"
    }
   ],
   "source": [
    "fig, ax = plt.subplots(figsize = (20, 10))\n",
    "usa.plot(ax = ax, alpha = 0.4, color = 'grey')\n",
    "geo_df.plot(ax = ax, color = 'red')\n",
    "plt.xlim([-180, -60])\n",
    "plt.title('Costco Locations in the United States')\n",
    "plt.show()"
   ]
  },
  {
   "cell_type": "code",
   "execution_count": 80,
   "metadata": {},
   "outputs": [],
   "source": [
    "# read in file\n",
    "\n",
    "ed = pd.read_csv('education.csv')"
   ]
  },
  {
   "cell_type": "code",
   "execution_count": 81,
   "metadata": {},
   "outputs": [
    {
     "data": {
      "text/html": [
       "<div>\n",
       "<style scoped>\n",
       "    .dataframe tbody tr th:only-of-type {\n",
       "        vertical-align: middle;\n",
       "    }\n",
       "\n",
       "    .dataframe tbody tr th {\n",
       "        vertical-align: top;\n",
       "    }\n",
       "\n",
       "    .dataframe thead th {\n",
       "        text-align: right;\n",
       "    }\n",
       "</style>\n",
       "<table border=\"1\" class=\"dataframe\">\n",
       "  <thead>\n",
       "    <tr style=\"text-align: right;\">\n",
       "      <th></th>\n",
       "      <th>Region</th>\n",
       "      <th>state</th>\n",
       "      <th>reading</th>\n",
       "      <th>math</th>\n",
       "      <th>writing</th>\n",
       "      <th>percent_graduates_sat</th>\n",
       "      <th>pupil_staff_ratio</th>\n",
       "      <th>dropout_rate</th>\n",
       "      <th>Target</th>\n",
       "    </tr>\n",
       "  </thead>\n",
       "  <tbody>\n",
       "    <tr>\n",
       "      <th>0</th>\n",
       "      <td>South</td>\n",
       "      <td>Alabama</td>\n",
       "      <td>557</td>\n",
       "      <td>552</td>\n",
       "      <td>549</td>\n",
       "      <td>7</td>\n",
       "      <td>6.7</td>\n",
       "      <td>2.3</td>\n",
       "      <td>3</td>\n",
       "    </tr>\n",
       "    <tr>\n",
       "      <th>1</th>\n",
       "      <td>North West</td>\n",
       "      <td>Alaska</td>\n",
       "      <td>520</td>\n",
       "      <td>516</td>\n",
       "      <td>492</td>\n",
       "      <td>46</td>\n",
       "      <td>7.9</td>\n",
       "      <td>7.3</td>\n",
       "      <td>3</td>\n",
       "    </tr>\n",
       "    <tr>\n",
       "      <th>2</th>\n",
       "      <td>South West</td>\n",
       "      <td>Arizona</td>\n",
       "      <td>516</td>\n",
       "      <td>521</td>\n",
       "      <td>497</td>\n",
       "      <td>26</td>\n",
       "      <td>10.4</td>\n",
       "      <td>7.6</td>\n",
       "      <td>3</td>\n",
       "    </tr>\n",
       "    <tr>\n",
       "      <th>3</th>\n",
       "      <td>South</td>\n",
       "      <td>Arkansas</td>\n",
       "      <td>572</td>\n",
       "      <td>572</td>\n",
       "      <td>556</td>\n",
       "      <td>5</td>\n",
       "      <td>6.8</td>\n",
       "      <td>4.6</td>\n",
       "      <td>3</td>\n",
       "    </tr>\n",
       "    <tr>\n",
       "      <th>4</th>\n",
       "      <td>West</td>\n",
       "      <td>California</td>\n",
       "      <td>500</td>\n",
       "      <td>513</td>\n",
       "      <td>498</td>\n",
       "      <td>49</td>\n",
       "      <td>10.9</td>\n",
       "      <td>5.5</td>\n",
       "      <td>3</td>\n",
       "    </tr>\n",
       "  </tbody>\n",
       "</table>\n",
       "</div>"
      ],
      "text/plain": [
       "       Region       state  reading  math  writing  percent_graduates_sat  \\\n",
       "0       South     Alabama      557   552      549                      7   \n",
       "1  North West      Alaska      520   516      492                     46   \n",
       "2  South West     Arizona      516   521      497                     26   \n",
       "3       South    Arkansas      572   572      556                      5   \n",
       "4        West  California      500   513      498                     49   \n",
       "\n",
       "   pupil_staff_ratio  dropout_rate  Target  \n",
       "0                6.7           2.3       3  \n",
       "1                7.9           7.3       3  \n",
       "2               10.4           7.6       3  \n",
       "3                6.8           4.6       3  \n",
       "4               10.9           5.5       3  "
      ]
     },
     "execution_count": 81,
     "metadata": {},
     "output_type": "execute_result"
    }
   ],
   "source": [
    "ed.head()"
   ]
  },
  {
   "cell_type": "code",
   "execution_count": 88,
   "metadata": {},
   "outputs": [
    {
     "data": {
      "image/png": "[encoded data removed]",
      "text/plain": [
       "<Figure size 432x288 with 1 Axes>"
      ]
     },
     "metadata": {
      "needs_background": "light"
     },
     "output_type": "display_data"
    }
   ],
   "source": [
    "# Create histogram\n",
    "\n",
    "plt.hist(ed['dropout_rate'], bins = 15, edgecolor = 'black')\n",
    "plt.title('Histogram of highschool dropout rates in the US')\n",
    "plt.xlabel('Percent')\n",
    "plt.ylabel('Totals')\n",
    "plt.show()"
   ]
  },
  {
   "cell_type": "code",
   "execution_count": 103,
   "metadata": {},
   "outputs": [
    {
     "data": {
      "image/png": "[encoded data removed]",
      "text/plain": [
       "<Figure size 432x288 with 1 Axes>"
      ]
     },
     "metadata": {
      "needs_background": "light"
     },
     "output_type": "display_data"
    }
   ],
   "source": [
    "# Create boxplot\n",
    "\n",
    "ed.boxplot(column = 'math', by = 'Region')\n",
    "plt.title('Boxplot of US math scores by Region')\n",
    "plt.show()"
   ]
  },
  {
   "cell_type": "code",
   "execution_count": 172,
   "metadata": {},
   "outputs": [
    {
     "data": {
      "text/plain": [
       "<AxesSubplot:title={'center':'Boxplot of US math scores by region'}, xlabel='Region', ylabel='math'>"
      ]
     },
     "execution_count": 172,
     "metadata": {},
     "output_type": "execute_result"
    },
    {
     "data": {
      "image/png": "[encoded data removed]",
      "text/plain": [
       "<Figure size 1080x504 with 1 Axes>"
      ]
     },
     "metadata": {
      "needs_background": "light"
     },
     "output_type": "display_data"
    }
   ],
   "source": [
    "# boxplot in seaborn\n",
    "plt.figure(figsize = (15, 7))\n",
    "plt.title('Boxplot of US math scores by region')\n",
    "sns.boxplot(x='Region', y ='math', data = ed)"
   ]
  },
  {
   "cell_type": "raw",
   "metadata": {},
   "source": [
    "# bullet chart\n",
    "\n",
    "fig = go.Figure(go.Indicator(\n",
    "    mode = \"number+gauge+delta\",\n",
    "    gauge = {'shape': \"bullet\"},\n",
    "    value = 220,\n",
    "    delta = {'reference': 300},\n",
    "    domain = {'x': [0, 1], 'y': [0, 1]},\n",
    "    title = {'text': \"Profit\"}))\n",
    "fig.update_layout(height = 250)\n",
    "\n",
    "fig.show()\n"
   ]
  },
  {
   "cell_type": "code",
   "execution_count": 120,
   "metadata": {},
   "outputs": [
    {
     "data": {
      "application/vnd.plotly.v1+json": {
       "config": {
        "plotlyServerURL": "https://plot.ly"
       },
       "data": [
        {
         "domain": {
          "x": [
           0,
           1
          ],
          "y": [
           0,
           1
          ]
         },
         "mode": "gauge+number",
         "title": {
          "text": "Average US Highschool Dropout Rate"
         },
         "type": "indicator",
         "value": 4.07
        }
       ],
       "layout": {
        "template": {
         "data": {
          "bar": [
           {
            "error_x": {
             "color": "#2a3f5f"
            },
            "error_y": {
             "color": "#2a3f5f"
            },
            "marker": {
             "line": {
              "color": "#E5ECF6",
              "width": 0.5
             },
             "pattern": {
              "fillmode": "overlay",
              "size": 10,
              "solidity": 0.2
             }
            },
            "type": "bar"
           }
          ],
          "barpolar": [
           {
            "marker": {
             "line": {
              "color": "#E5ECF6",
              "width": 0.5
             },
             "pattern": {
              "fillmode": "overlay",
              "size": 10,
              "solidity": 0.2
             }
            },
            "type": "barpolar"
           }
          ],
          "carpet": [
           {
            "aaxis": {
             "endlinecolor": "#2a3f5f",
             "gridcolor": "white",
             "linecolor": "white",
             "minorgridcolor": "white",
             "startlinecolor": "#2a3f5f"
            },
            "baxis": {
             "endlinecolor": "#2a3f5f",
             "gridcolor": "white",
             "linecolor": "white",
             "minorgridcolor": "white",
             "startlinecolor": "#2a3f5f"
            },
            "type": "carpet"
           }
          ],
          "choropleth": [
           {
            "colorbar": {
             "outlinewidth": 0,
             "ticks": ""
            },
            "type": "choropleth"
           }
          ],
          "contour": [
           {
            "colorbar": {
             "outlinewidth": 0,
             "ticks": ""
            },
            "colorscale": [
             [
              0,
              "#0d0887"
             ],
             [
              0.1111111111111111,
              "#46039f"
             ],
             [
              0.2222222222222222,
              "#7201a8"
             ],
             [
              0.3333333333333333,
              "#9c179e"
             ],
             [
              0.4444444444444444,
              "#bd3786"
             ],
             [
              0.5555555555555556,
              "#d8576b"
             ],
             [
              0.6666666666666666,
              "#ed7953"
             ],
             [
              0.7777777777777778,
              "#fb9f3a"
             ],
             [
              0.8888888888888888,
              "#fdca26"
             ],
             [
              1,
              "#f0f921"
             ]
            ],
            "type": "contour"
           }
          ],
          "contourcarpet": [
           {
            "colorbar": {
             "outlinewidth": 0,
             "ticks": ""
            },
            "type": "contourcarpet"
           }
          ],
          "heatmap": [
           {
            "colorbar": {
             "outlinewidth": 0,
             "ticks": ""
            },
            "colorscale": [
             [
              0,
              "#0d0887"
             ],
             [
              0.1111111111111111,
              "#46039f"
             ],
             [
              0.2222222222222222,
              "#7201a8"
             ],
             [
              0.3333333333333333,
              "#9c179e"
             ],
             [
              0.4444444444444444,
              "#bd3786"
             ],
             [
              0.5555555555555556,
              "#d8576b"
             ],
             [
              0.6666666666666666,
              "#ed7953"
             ],
             [
              0.7777777777777778,
              "#fb9f3a"
             ],
             [
              0.8888888888888888,
              "#fdca26"
             ],
             [
              1,
              "#f0f921"
             ]
            ],
            "type": "heatmap"
           }
          ],
          "heatmapgl": [
           {
            "colorbar": {
             "outlinewidth": 0,
             "ticks": ""
            },
            "colorscale": [
             [
              0,
              "#0d0887"
             ],
             [
              0.1111111111111111,
              "#46039f"
             ],
             [
              0.2222222222222222,
              "#7201a8"
             ],
             [
              0.3333333333333333,
              "#9c179e"
             ],
             [
              0.4444444444444444,
              "#bd3786"
             ],
             [
              0.5555555555555556,
              "#d8576b"
             ],
             [
              0.6666666666666666,
              "#ed7953"
             ],
             [
              0.7777777777777778,
              "#fb9f3a"
             ],
             [
              0.8888888888888888,
              "#fdca26"
             ],
             [
              1,
              "#f0f921"
             ]
            ],
            "type": "heatmapgl"
           }
          ],
          "histogram": [
           {
            "marker": {
             "pattern": {
              "fillmode": "overlay",
              "size": 10,
              "solidity": 0.2
             }
            },
            "type": "histogram"
           }
          ],
          "histogram2d": [
           {
            "colorbar": {
             "outlinewidth": 0,
             "ticks": ""
            },
            "colorscale": [
             [
              0,
              "#0d0887"
             ],
             [
              0.1111111111111111,
              "#46039f"
             ],
             [
              0.2222222222222222,
              "#7201a8"
             ],
             [
              0.3333333333333333,
              "#9c179e"
             ],
             [
              0.4444444444444444,
              "#bd3786"
             ],
             [
              0.5555555555555556,
              "#d8576b"
             ],
             [
              0.6666666666666666,
              "#ed7953"
             ],
             [
              0.7777777777777778,
              "#fb9f3a"
             ],
             [
              0.8888888888888888,
              "#fdca26"
             ],
             [
              1,
              "#f0f921"
             ]
            ],
            "type": "histogram2d"
           }
          ],
          "histogram2dcontour": [
           {
            "colorbar": {
             "outlinewidth": 0,
             "ticks": ""
            },
            "colorscale": [
             [
              0,
              "#0d0887"
             ],
             [
              0.1111111111111111,
              "#46039f"
             ],
             [
              0.2222222222222222,
              "#7201a8"
             ],
             [
              0.3333333333333333,
              "#9c179e"
             ],
             [
              0.4444444444444444,
              "#bd3786"
             ],
             [
              0.5555555555555556,
              "#d8576b"
             ],
             [
              0.6666666666666666,
              "#ed7953"
             ],
             [
              0.7777777777777778,
              "#fb9f3a"
             ],
             [
              0.8888888888888888,
              "#fdca26"
             ],
             [
              1,
              "#f0f921"
             ]
            ],
            "type": "histogram2dcontour"
           }
          ],
          "mesh3d": [
           {
            "colorbar": {
             "outlinewidth": 0,
             "ticks": ""
            },
            "type": "mesh3d"
           }
          ],
          "parcoords": [
           {
            "line": {
             "colorbar": {
              "outlinewidth": 0,
              "ticks": ""
             }
            },
            "type": "parcoords"
           }
          ],
          "pie": [
           {
            "automargin": true,
            "type": "pie"
           }
          ],
          "scatter": [
           {
            "marker": {
             "colorbar": {
              "outlinewidth": 0,
              "ticks": ""
             }
            },
            "type": "scatter"
           }
          ],
          "scatter3d": [
           {
            "line": {
             "colorbar": {
              "outlinewidth": 0,
              "ticks": ""
             }
            },
            "marker": {
             "colorbar": {
              "outlinewidth": 0,
              "ticks": ""
             }
            },
            "type": "scatter3d"
           }
          ],
          "scattercarpet": [
           {
            "marker": {
             "colorbar": {
              "outlinewidth": 0,
              "ticks": ""
             }
            },
            "type": "scattercarpet"
           }
          ],
          "scattergeo": [
           {
            "marker": {
             "colorbar": {
              "outlinewidth": 0,
              "ticks": ""
             }
            },
            "type": "scattergeo"
           }
          ],
          "scattergl": [
           {
            "marker": {
             "colorbar": {
              "outlinewidth": 0,
              "ticks": ""
             }
            },
            "type": "scattergl"
           }
          ],
          "scattermapbox": [
           {
            "marker": {
             "colorbar": {
              "outlinewidth": 0,
              "ticks": ""
             }
            },
            "type": "scattermapbox"
           }
          ],
          "scatterpolar": [
           {
            "marker": {
             "colorbar": {
              "outlinewidth": 0,
              "ticks": ""
             }
            },
            "type": "scatterpolar"
           }
          ],
          "scatterpolargl": [
           {
            "marker": {
             "colorbar": {
              "outlinewidth": 0,
              "ticks": ""
             }
            },
            "type": "scatterpolargl"
           }
          ],
          "scatterternary": [
           {
            "marker": {
             "colorbar": {
              "outlinewidth": 0,
              "ticks": ""
             }
            },
            "type": "scatterternary"
           }
          ],
          "surface": [
           {
            "colorbar": {
             "outlinewidth": 0,
             "ticks": ""
            },
            "colorscale": [
             [
              0,
              "#0d0887"
             ],
             [
              0.1111111111111111,
              "#46039f"
             ],
             [
              0.2222222222222222,
              "#7201a8"
             ],
             [
              0.3333333333333333,
              "#9c179e"
             ],
             [
              0.4444444444444444,
              "#bd3786"
             ],
             [
              0.5555555555555556,
              "#d8576b"
             ],
             [
              0.6666666666666666,
              "#ed7953"
             ],
             [
              0.7777777777777778,
              "#fb9f3a"
             ],
             [
              0.8888888888888888,
              "#fdca26"
             ],
             [
              1,
              "#f0f921"
             ]
            ],
            "type": "surface"
           }
          ],
          "table": [
           {
            "cells": {
             "fill": {
              "color": "#EBF0F8"
             },
             "line": {
              "color": "white"
             }
            },
            "header": {
             "fill": {
              "color": "#C8D4E3"
             },
             "line": {
              "color": "white"
             }
            },
            "type": "table"
           }
          ]
         },
         "layout": {
          "annotationdefaults": {
           "arrowcolor": "#2a3f5f",
           "arrowhead": 0,
           "arrowwidth": 1
          },
          "autotypenumbers": "strict",
          "coloraxis": {
           "colorbar": {
            "outlinewidth": 0,
            "ticks": ""
           }
          },
          "colorscale": {
           "diverging": [
            [
             0,
             "#8e0152"
            ],
            [
             0.1,
             "#c51b7d"
            ],
            [
             0.2,
             "#de77ae"
            ],
            [
             0.3,
             "#f1b6da"
            ],
            [
             0.4,
             "#fde0ef"
            ],
            [
             0.5,
             "#f7f7f7"
            ],
            [
             0.6,
             "#e6f5d0"
            ],
            [
             0.7,
             "#b8e186"
            ],
            [
             0.8,
             "#7fbc41"
            ],
            [
             0.9,
             "#4d9221"
            ],
            [
             1,
             "#276419"
            ]
           ],
           "sequential": [
            [
             0,
             "#0d0887"
            ],
            [
             0.1111111111111111,
             "#46039f"
            ],
            [
             0.2222222222222222,
             "#7201a8"
            ],
            [
             0.3333333333333333,
             "#9c179e"
            ],
            [
             0.4444444444444444,
             "#bd3786"
            ],
            [
             0.5555555555555556,
             "#d8576b"
            ],
            [
             0.6666666666666666,
             "#ed7953"
            ],
            [
             0.7777777777777778,
             "#fb9f3a"
            ],
            [
             0.8888888888888888,
             "#fdca26"
            ],
            [
             1,
             "#f0f921"
            ]
           ],
           "sequentialminus": [
            [
             0,
             "#0d0887"
            ],
            [
             0.1111111111111111,
             "#46039f"
            ],
            [
             0.2222222222222222,
             "#7201a8"
            ],
            [
             0.3333333333333333,
             "#9c179e"
            ],
            [
             0.4444444444444444,
             "#bd3786"
            ],
            [
             0.5555555555555556,
             "#d8576b"
            ],
            [
             0.6666666666666666,
             "#ed7953"
            ],
            [
             0.7777777777777778,
             "#fb9f3a"
            ],
            [
             0.8888888888888888,
             "#fdca26"
            ],
            [
             1,
             "#f0f921"
            ]
           ]
          },
          "colorway": [
           "#636efa",
           "#EF553B",
           "#00cc96",
           "#ab63fa",
           "#FFA15A",
           "#19d3f3",
           "#FF6692",
           "#B6E880",
           "#FF97FF",
           "#FECB52"
          ],
          "font": {
           "color": "#2a3f5f"
          },
          "geo": {
           "bgcolor": "white",
           "lakecolor": "white",
           "landcolor": "#E5ECF6",
           "showlakes": true,
           "showland": true,
           "subunitcolor": "white"
          },
          "hoverlabel": {
           "align": "left"
          },
          "hovermode": "closest",
          "mapbox": {
           "style": "light"
          },
          "paper_bgcolor": "white",
          "plot_bgcolor": "#E5ECF6",
          "polar": {
           "angularaxis": {
            "gridcolor": "white",
            "linecolor": "white",
            "ticks": ""
           },
           "bgcolor": "#E5ECF6",
           "radialaxis": {
            "gridcolor": "white",
            "linecolor": "white",
            "ticks": ""
           }
          },
          "scene": {
           "xaxis": {
            "backgroundcolor": "#E5ECF6",
            "gridcolor": "white",
            "gridwidth": 2,
            "linecolor": "white",
            "showbackground": true,
            "ticks": "",
            "zerolinecolor": "white"
           },
           "yaxis": {
            "backgroundcolor": "#E5ECF6",
            "gridcolor": "white",
            "gridwidth": 2,
            "linecolor": "white",
            "showbackground": true,
            "ticks": "",
            "zerolinecolor": "white"
           },
           "zaxis": {
            "backgroundcolor": "#E5ECF6",
            "gridcolor": "white",
            "gridwidth": 2,
            "linecolor": "white",
            "showbackground": true,
            "ticks": "",
            "zerolinecolor": "white"
           }
          },
          "shapedefaults": {
           "line": {
            "color": "#2a3f5f"
           }
          },
          "ternary": {
           "aaxis": {
            "gridcolor": "white",
            "linecolor": "white",
            "ticks": ""
           },
           "baxis": {
            "gridcolor": "white",
            "linecolor": "white",
            "ticks": ""
           },
           "bgcolor": "#E5ECF6",
           "caxis": {
            "gridcolor": "white",
            "linecolor": "white",
            "ticks": ""
           }
          },
          "title": {
           "x": 0.05
          },
          "xaxis": {
           "automargin": true,
           "gridcolor": "white",
           "linecolor": "white",
           "ticks": "",
           "title": {
            "standoff": 15
           },
           "zerolinecolor": "white",
           "zerolinewidth": 2
          },
          "yaxis": {
           "automargin": true,
           "gridcolor": "white",
           "linecolor": "white",
           "ticks": "",
           "title": {
            "standoff": 15
           },
           "zerolinecolor": "white",
           "zerolinewidth": 2
          }
         }
        }
       }
      },
      "text/html": [
       "<div>                            <div id=\"2c8b5bd4-84a8-4011-a4d3-dd403e378299\" class=\"plotly-graph-div\" style=\"height:525px; width:100%;\"></div>            <script type=\"text/javascript\">                require([\"plotly\"], function(Plotly) {                    window.PLOTLYENV=window.PLOTLYENV || {};                                    if (document.getElementById(\"2c8b5bd4-84a8-4011-a4d3-dd403e378299\")) {                    Plotly.newPlot(                        \"2c8b5bd4-84a8-4011-a4d3-dd403e378299\",                        [{\"domain\":{\"x\":[0,1],\"y\":[0,1]},\"mode\":\"gauge+number\",\"title\":{\"text\":\"Average US Highschool Dropout Rate\"},\"type\":\"indicator\",\"value\":4.07}],                        {\"template\":{\"data\":{\"bar\":[{\"error_x\":{\"color\":\"#2a3f5f\"},\"error_y\":{\"color\":\"#2a3f5f\"},\"marker\":{\"line\":{\"color\":\"#E5ECF6\",\"width\":0.5},\"pattern\":{\"fillmode\":\"overlay\",\"size\":10,\"solidity\":0.2}},\"type\":\"bar\"}],\"barpolar\":[{\"marker\":{\"line\":{\"color\":\"#E5ECF6\",\"width\":0.5},\"pattern\":{\"fillmode\":\"overlay\",\"size\":10,\"solidity\":0.2}},\"type\":\"barpolar\"}],\"carpet\":[{\"aaxis\":{\"endlinecolor\":\"#2a3f5f\",\"gridcolor\":\"white\",\"linecolor\":\"white\",\"minorgridcolor\":\"white\",\"startlinecolor\":\"#2a3f5f\"},\"baxis\":{\"endlinecolor\":\"#2a3f5f\",\"gridcolor\":\"white\",\"linecolor\":\"white\",\"minorgridcolor\":\"white\",\"startlinecolor\":\"#2a3f5f\"},\"type\":\"carpet\"}],\"choropleth\":[{\"colorbar\":{\"outlinewidth\":0,\"ticks\":\"\"},\"type\":\"choropleth\"}],\"contour\":[{\"colorbar\":{\"outlinewidth\":0,\"ticks\":\"\"},\"colorscale\":[[0.0,\"#0d0887\"],[0.1111111111111111,\"#46039f\"],[0.2222222222222222,\"#7201a8\"],[0.3333333333333333,\"#9c179e\"],[0.4444444444444444,\"#bd3786\"],[0.5555555555555556,\"#d8576b\"],[0.6666666666666666,\"#ed7953\"],[0.7777777777777778,\"#fb9f3a\"],[0.8888888888888888,\"#fdca26\"],[1.0,\"#f0f921\"]],\"type\":\"contour\"}],\"contourcarpet\":[{\"colorbar\":{\"outlinewidth\":0,\"ticks\":\"\"},\"type\":\"contourcarpet\"}],\"heatmap\":[{\"colorbar\":{\"outlinewidth\":0,\"ticks\":\"\"},\"colorscale\":[[0.0,\"#0d0887\"],[0.1111111111111111,\"#46039f\"],[0.2222222222222222,\"#7201a8\"],[0.3333333333333333,\"#9c179e\"],[0.4444444444444444,\"#bd3786\"],[0.5555555555555556,\"#d8576b\"],[0.6666666666666666,\"#ed7953\"],[0.7777777777777778,\"#fb9f3a\"],[0.8888888888888888,\"#fdca26\"],[1.0,\"#f0f921\"]],\"type\":\"heatmap\"}],\"heatmapgl\":[{\"colorbar\":{\"outlinewidth\":0,\"ticks\":\"\"},\"colorscale\":[[0.0,\"#0d0887\"],[0.1111111111111111,\"#46039f\"],[0.2222222222222222,\"#7201a8\"],[0.3333333333333333,\"#9c179e\"],[0.4444444444444444,\"#bd3786\"],[0.5555555555555556,\"#d8576b\"],[0.6666666666666666,\"#ed7953\"],[0.7777777777777778,\"#fb9f3a\"],[0.8888888888888888,\"#fdca26\"],[1.0,\"#f0f921\"]],\"type\":\"heatmapgl\"}],\"histogram\":[{\"marker\":{\"pattern\":{\"fillmode\":\"overlay\",\"size\":10,\"solidity\":0.2}},\"type\":\"histogram\"}],\"histogram2d\":[{\"colorbar\":{\"outlinewidth\":0,\"ticks\":\"\"},\"colorscale\":[[0.0,\"#0d0887\"],[0.1111111111111111,\"#46039f\"],[0.2222222222222222,\"#7201a8\"],[0.3333333333333333,\"#9c179e\"],[0.4444444444444444,\"#bd3786\"],[0.5555555555555556,\"#d8576b\"],[0.6666666666666666,\"#ed7953\"],[0.7777777777777778,\"#fb9f3a\"],[0.8888888888888888,\"#fdca26\"],[1.0,\"#f0f921\"]],\"type\":\"histogram2d\"}],\"histogram2dcontour\":[{\"colorbar\":{\"outlinewidth\":0,\"ticks\":\"\"},\"colorscale\":[[0.0,\"#0d0887\"],[0.1111111111111111,\"#46039f\"],[0.2222222222222222,\"#7201a8\"],[0.3333333333333333,\"#9c179e\"],[0.4444444444444444,\"#bd3786\"],[0.5555555555555556,\"#d8576b\"],[0.6666666666666666,\"#ed7953\"],[0.7777777777777778,\"#fb9f3a\"],[0.8888888888888888,\"#fdca26\"],[1.0,\"#f0f921\"]],\"type\":\"histogram2dcontour\"}],\"mesh3d\":[{\"colorbar\":{\"outlinewidth\":0,\"ticks\":\"\"},\"type\":\"mesh3d\"}],\"parcoords\":[{\"line\":{\"colorbar\":{\"outlinewidth\":0,\"ticks\":\"\"}},\"type\":\"parcoords\"}],\"pie\":[{\"automargin\":true,\"type\":\"pie\"}],\"scatter\":[{\"marker\":{\"colorbar\":{\"outlinewidth\":0,\"ticks\":\"\"}},\"type\":\"scatter\"}],\"scatter3d\":[{\"line\":{\"colorbar\":{\"outlinewidth\":0,\"ticks\":\"\"}},\"marker\":{\"colorbar\":{\"outlinewidth\":0,\"ticks\":\"\"}},\"type\":\"scatter3d\"}],\"scattercarpet\":[{\"marker\":{\"colorbar\":{\"outlinewidth\":0,\"ticks\":\"\"}},\"type\":\"scattercarpet\"}],\"scattergeo\":[{\"marker\":{\"colorbar\":{\"outlinewidth\":0,\"ticks\":\"\"}},\"type\":\"scattergeo\"}],\"scattergl\":[{\"marker\":{\"colorbar\":{\"outlinewidth\":0,\"ticks\":\"\"}},\"type\":\"scattergl\"}],\"scattermapbox\":[{\"marker\":{\"colorbar\":{\"outlinewidth\":0,\"ticks\":\"\"}},\"type\":\"scattermapbox\"}],\"scatterpolar\":[{\"marker\":{\"colorbar\":{\"outlinewidth\":0,\"ticks\":\"\"}},\"type\":\"scatterpolar\"}],\"scatterpolargl\":[{\"marker\":{\"colorbar\":{\"outlinewidth\":0,\"ticks\":\"\"}},\"type\":\"scatterpolargl\"}],\"scatterternary\":[{\"marker\":{\"colorbar\":{\"outlinewidth\":0,\"ticks\":\"\"}},\"type\":\"scatterternary\"}],\"surface\":[{\"colorbar\":{\"outlinewidth\":0,\"ticks\":\"\"},\"colorscale\":[[0.0,\"#0d0887\"],[0.1111111111111111,\"#46039f\"],[0.2222222222222222,\"#7201a8\"],[0.3333333333333333,\"#9c179e\"],[0.4444444444444444,\"#bd3786\"],[0.5555555555555556,\"#d8576b\"],[0.6666666666666666,\"#ed7953\"],[0.7777777777777778,\"#fb9f3a\"],[0.8888888888888888,\"#fdca26\"],[1.0,\"#f0f921\"]],\"type\":\"surface\"}],\"table\":[{\"cells\":{\"fill\":{\"color\":\"#EBF0F8\"},\"line\":{\"color\":\"white\"}},\"header\":{\"fill\":{\"color\":\"#C8D4E3\"},\"line\":{\"color\":\"white\"}},\"type\":\"table\"}]},\"layout\":{\"annotationdefaults\":{\"arrowcolor\":\"#2a3f5f\",\"arrowhead\":0,\"arrowwidth\":1},\"autotypenumbers\":\"strict\",\"coloraxis\":{\"colorbar\":{\"outlinewidth\":0,\"ticks\":\"\"}},\"colorscale\":{\"diverging\":[[0,\"#8e0152\"],[0.1,\"#c51b7d\"],[0.2,\"#de77ae\"],[0.3,\"#f1b6da\"],[0.4,\"#fde0ef\"],[0.5,\"#f7f7f7\"],[0.6,\"#e6f5d0\"],[0.7,\"#b8e186\"],[0.8,\"#7fbc41\"],[0.9,\"#4d9221\"],[1,\"#276419\"]],\"sequential\":[[0.0,\"#0d0887\"],[0.1111111111111111,\"#46039f\"],[0.2222222222222222,\"#7201a8\"],[0.3333333333333333,\"#9c179e\"],[0.4444444444444444,\"#bd3786\"],[0.5555555555555556,\"#d8576b\"],[0.6666666666666666,\"#ed7953\"],[0.7777777777777778,\"#fb9f3a\"],[0.8888888888888888,\"#fdca26\"],[1.0,\"#f0f921\"]],\"sequentialminus\":[[0.0,\"#0d0887\"],[0.1111111111111111,\"#46039f\"],[0.2222222222222222,\"#7201a8\"],[0.3333333333333333,\"#9c179e\"],[0.4444444444444444,\"#bd3786\"],[0.5555555555555556,\"#d8576b\"],[0.6666666666666666,\"#ed7953\"],[0.7777777777777778,\"#fb9f3a\"],[0.8888888888888888,\"#fdca26\"],[1.0,\"#f0f921\"]]},\"colorway\":[\"#636efa\",\"#EF553B\",\"#00cc96\",\"#ab63fa\",\"#FFA15A\",\"#19d3f3\",\"#FF6692\",\"#B6E880\",\"#FF97FF\",\"#FECB52\"],\"font\":{\"color\":\"#2a3f5f\"},\"geo\":{\"bgcolor\":\"white\",\"lakecolor\":\"white\",\"landcolor\":\"#E5ECF6\",\"showlakes\":true,\"showland\":true,\"subunitcolor\":\"white\"},\"hoverlabel\":{\"align\":\"left\"},\"hovermode\":\"closest\",\"mapbox\":{\"style\":\"light\"},\"paper_bgcolor\":\"white\",\"plot_bgcolor\":\"#E5ECF6\",\"polar\":{\"angularaxis\":{\"gridcolor\":\"white\",\"linecolor\":\"white\",\"ticks\":\"\"},\"bgcolor\":\"#E5ECF6\",\"radialaxis\":{\"gridcolor\":\"white\",\"linecolor\":\"white\",\"ticks\":\"\"}},\"scene\":{\"xaxis\":{\"backgroundcolor\":\"#E5ECF6\",\"gridcolor\":\"white\",\"gridwidth\":2,\"linecolor\":\"white\",\"showbackground\":true,\"ticks\":\"\",\"zerolinecolor\":\"white\"},\"yaxis\":{\"backgroundcolor\":\"#E5ECF6\",\"gridcolor\":\"white\",\"gridwidth\":2,\"linecolor\":\"white\",\"showbackground\":true,\"ticks\":\"\",\"zerolinecolor\":\"white\"},\"zaxis\":{\"backgroundcolor\":\"#E5ECF6\",\"gridcolor\":\"white\",\"gridwidth\":2,\"linecolor\":\"white\",\"showbackground\":true,\"ticks\":\"\",\"zerolinecolor\":\"white\"}},\"shapedefaults\":{\"line\":{\"color\":\"#2a3f5f\"}},\"ternary\":{\"aaxis\":{\"gridcolor\":\"white\",\"linecolor\":\"white\",\"ticks\":\"\"},\"baxis\":{\"gridcolor\":\"white\",\"linecolor\":\"white\",\"ticks\":\"\"},\"bgcolor\":\"#E5ECF6\",\"caxis\":{\"gridcolor\":\"white\",\"linecolor\":\"white\",\"ticks\":\"\"}},\"title\":{\"x\":0.05},\"xaxis\":{\"automargin\":true,\"gridcolor\":\"white\",\"linecolor\":\"white\",\"ticks\":\"\",\"title\":{\"standoff\":15},\"zerolinecolor\":\"white\",\"zerolinewidth\":2},\"yaxis\":{\"automargin\":true,\"gridcolor\":\"white\",\"linecolor\":\"white\",\"ticks\":\"\",\"title\":{\"standoff\":15},\"zerolinecolor\":\"white\",\"zerolinewidth\":2}}}},                        {\"responsive\": true}                    ).then(function(){\n",
       "                            \n",
       "var gd = document.getElementById('2c8b5bd4-84a8-4011-a4d3-dd403e378299');\n",
       "var x = new MutationObserver(function (mutations, observer) {{\n",
       "        var display = window.getComputedStyle(gd).display;\n",
       "        if (!display || display === 'none') {{\n",
       "            console.log([gd, 'removed!']);\n",
       "            Plotly.purge(gd);\n",
       "            observer.disconnect();\n",
       "        }}\n",
       "}});\n",
       "\n",
       "// Listen for the removal of the full notebook cells\n",
       "var notebookContainer = gd.closest('#notebook-container');\n",
       "if (notebookContainer) {{\n",
       "    x.observe(notebookContainer, {childList: true});\n",
       "}}\n",
       "\n",
       "// Listen for the clearing of the current output cell\n",
       "var outputEl = gd.closest('.output');\n",
       "if (outputEl) {{\n",
       "    x.observe(outputEl, {childList: true});\n",
       "}}\n",
       "\n",
       "                        })                };                });            </script>        </div>"
      ]
     },
     "metadata": {},
     "output_type": "display_data"
    }
   ],
   "source": [
    "# Guage Chart\n",
    "\n",
    "import plotly.graph_objects as go\n",
    "\n",
    "fig = go.Figure(go.Indicator(\n",
    "    mode = \"gauge+number\",\n",
    "    value = 4.07,\n",
    "    domain = {'x': [0, 1], 'y': [0, 1]},\n",
    "    title = {'text': \"Average US Highschool Dropout Rate\"}))\n",
    "\n",
    "fig.show()"
   ]
  },
  {
   "cell_type": "code",
   "execution_count": 116,
   "metadata": {},
   "outputs": [
    {
     "name": "stdout",
     "output_type": "stream",
     "text": [
      "Collecting package metadata (current_repodata.json): ...working... done\n",
      "Solving environment: ...working... done\n",
      "\n",
      "## Package Plan ##\n",
      "\n",
      "  environment location: C:\\Users\\quefi\\Anaconda3\n",
      "\n",
      "  added / updated specs:\n",
      "    - plotly\n",
      "\n",
      "\n",
      "The following packages will be downloaded:\n",
      "\n",
      "    package                    |            build\n",
      "    ---------------------------|-----------------\n",
      "    plotly-5.1.0               |     pyhd3eb1b0_0         2.7 MB\n",
      "    tenacity-6.3.1             |   py37haa95532_0          83 KB\n",
      "    ------------------------------------------------------------\n",
      "                                           Total:         2.8 MB\n",
      "\n",
      "The following NEW packages will be INSTALLED:\n",
      "\n",
      "  plotly             pkgs/main/noarch::plotly-5.1.0-pyhd3eb1b0_0\n",
      "  tenacity           pkgs/main/win-64::tenacity-6.3.1-py37haa95532_0\n",
      "\n",
      "\n",
      "\n",
      "Downloading and Extracting Packages\n",
      "\n",
      "tenacity-6.3.1       | 83 KB     |            |   0% \n",
      "tenacity-6.3.1       | 83 KB     | #9         |  19% \n",
      "tenacity-6.3.1       | 83 KB     | ########## | 100% \n",
      "tenacity-6.3.1       | 83 KB     | ########## | 100% \n",
      "\n",
      "plotly-5.1.0         | 2.7 MB    |            |   0% \n",
      "plotly-5.1.0         | 2.7 MB    | 8          |   9% \n",
      "plotly-5.1.0         | 2.7 MB    | ######8    |  69% \n",
      "plotly-5.1.0         | 2.7 MB    | ########## | 100% \n",
      "Preparing transaction: ...working... done\n",
      "Verifying transaction: ...working... done\n",
      "Executing transaction: ...working... done\n",
      "\n",
      "Note: you may need to restart the kernel to use updated packages.\n"
     ]
    }
   ],
   "source": [
    "conda install plotly"
   ]
  },
  {
   "cell_type": "code",
   "execution_count": 133,
   "metadata": {},
   "outputs": [],
   "source": [
    "import plotly as py\n",
    "import plotly.figure_factory as ff"
   ]
  },
  {
   "cell_type": "code",
   "execution_count": 131,
   "metadata": {},
   "outputs": [
    {
     "ename": "AttributeError",
     "evalue": "module 'plotly' has no attribute 'iplot'",
     "output_type": "error",
     "traceback": [
      "\u001b[1;31m---------------------------------------------------------------------------\u001b[0m",
      "\u001b[1;31mAttributeError\u001b[0m                            Traceback (most recent call last)",
      "\u001b[1;32m<ipython-input-131-9178903ae360>\u001b[0m in \u001b[0;36m<module>\u001b[1;34m\u001b[0m\n\u001b[0;32m     19\u001b[0m \u001b[1;33m\u001b[0m\u001b[0m\n\u001b[0;32m     20\u001b[0m \u001b[0mfig\u001b[0m \u001b[1;33m=\u001b[0m \u001b[0mff\u001b[0m\u001b[1;33m.\u001b[0m\u001b[0mcreate_bullet\u001b[0m\u001b[1;33m(\u001b[0m\u001b[0mdata\u001b[0m\u001b[1;33m)\u001b[0m\u001b[1;33m\u001b[0m\u001b[1;33m\u001b[0m\u001b[0m\n\u001b[1;32m---> 21\u001b[1;33m \u001b[0mpy\u001b[0m\u001b[1;33m.\u001b[0m\u001b[0miplot\u001b[0m\u001b[1;33m(\u001b[0m\u001b[0mfig\u001b[0m\u001b[1;33m,\u001b[0m \u001b[0mfilename\u001b[0m\u001b[1;33m=\u001b[0m\u001b[1;34m'bullet chart from a dataframe'\u001b[0m\u001b[1;33m)\u001b[0m\u001b[1;33m\u001b[0m\u001b[1;33m\u001b[0m\u001b[0m\n\u001b[0m",
      "\u001b[1;32m~\\Anaconda3\\lib\\site-packages\\_plotly_utils\\importers.py\u001b[0m in \u001b[0;36m__getattr__\u001b[1;34m(import_name)\u001b[0m\n\u001b[0;32m     39\u001b[0m         raise AttributeError(\n\u001b[0;32m     40\u001b[0m             \"module {__name__!r} has no attribute {name!r}\".format(\n\u001b[1;32m---> 41\u001b[1;33m                 \u001b[0mname\u001b[0m\u001b[1;33m=\u001b[0m\u001b[0mimport_name\u001b[0m\u001b[1;33m,\u001b[0m \u001b[0m__name__\u001b[0m\u001b[1;33m=\u001b[0m\u001b[0mparent_name\u001b[0m\u001b[1;33m\u001b[0m\u001b[1;33m\u001b[0m\u001b[0m\n\u001b[0m\u001b[0;32m     42\u001b[0m             )\n\u001b[0;32m     43\u001b[0m         )\n",
      "\u001b[1;31mAttributeError\u001b[0m: module 'plotly' has no attribute 'iplot'"
     ]
    }
   ],
   "source": [
    "data =({\"label\": \"West\", \"sublabel\": \"US$, in thousands\",\n",
    "   \"range\": [150, 225, 300], \"performance\": [220,270], \"point\": [250]}, \n",
    "       {\"label\": \"Mid West\", \"sublabel\": \"%\", \"range\": [20, 25, 30],\n",
    "   \"performance\": [21, 23], \"point\": [26]}, \n",
    "       {\"label\": \"East\", \"sublabel\":\"US$, average\",\"range\": [350, 500, 600],\n",
    "   \"performance\": [100,320],\"point\": [550]}, \n",
    "       {\"label\": \"South\", \"sublabel\": \"count\", \"range\": [1400, 2000, 2500],\n",
    "   \"performance\": [1000, 1650],\"point\": [2100]}, \n",
    "       {\"label\": \"South West\", \"sublabel\": \"out of 5\",\"range\": [3.5, 4.25, 5],\n",
    "   \"performance\": [3.2, 4.7], \"point\": [4.4]},\n",
    "       {\"label\": \"South East\", \"sublabel\": \"out of 5\",\"range\": [3.5, 4.25, 5],\n",
    "   \"performance\": [3.2, 4.7], \"point\": [4.4]}, \n",
    "       {\"label\": \"North East\", \"sublabel\": \"out of 5\",\"range\": [3.5, 4.25, 5],\n",
    "   \"performance\": [3.2, 4.7], \"point\": [4.4]}, \n",
    "       {\"label\": \"North West\", \"sublabel\": \"out of 5\",\"range\": [3.5, 4.25, 5],\n",
    "   \"performance\": [3.2, 4.7], \"point\": [4.4]}, \n",
    "       {\"label\": \"North\", \"sublabel\": \"out of 5\",\"range\": [3.5, 4.25, 5],\n",
    "   \"performance\": [3.2, 4.7], \"point\": [4.4]})\n",
    "\n",
    "fig = ff.create_bullet(data)\n",
    "py.iplot(fig, filename='bullet chart from a dataframe')"
   ]
  },
  {
   "cell_type": "code",
   "execution_count": 128,
   "metadata": {},
   "outputs": [
    {
     "data": {
      "text/plain": [
       "({'label': 'West',\n",
       "  'sublabel': 'US$, in thousands',\n",
       "  'range': [150, 225, 300],\n",
       "  'performance': [220, 270],\n",
       "  'point': [250]},\n",
       " {'label': 'Mid West',\n",
       "  'sublabel': '%',\n",
       "  'range': [20, 25, 30],\n",
       "  'performance': [21, 23],\n",
       "  'point': [26]},\n",
       " {'label': 'East',\n",
       "  'sublabel': 'US$, average',\n",
       "  'range': [350, 500, 600],\n",
       "  'performance': [100, 320],\n",
       "  'point': [550]},\n",
       " {'label': 'South',\n",
       "  'sublabel': 'count',\n",
       "  'range': [1400, 2000, 2500],\n",
       "  'performance': [1000, 1650],\n",
       "  'point': [2100]},\n",
       " {'label': 'South West',\n",
       "  'sublabel': 'out of 5',\n",
       "  'range': [3.5, 4.25, 5],\n",
       "  'performance': [3.2, 4.7],\n",
       "  'point': [4.4]},\n",
       " {'label': 'South East',\n",
       "  'sublabel': 'out of 5',\n",
       "  'range': [3.5, 4.25, 5],\n",
       "  'performance': [3.2, 4.7],\n",
       "  'point': [4.4]},\n",
       " {'label': 'North East',\n",
       "  'sublabel': 'out of 5',\n",
       "  'range': [3.5, 4.25, 5],\n",
       "  'performance': [3.2, 4.7],\n",
       "  'point': [4.4]},\n",
       " {'label': 'North West',\n",
       "  'sublabel': 'out of 5',\n",
       "  'range': [3.5, 4.25, 5],\n",
       "  'performance': [3.2, 4.7],\n",
       "  'point': [4.4]},\n",
       " {'label': 'North',\n",
       "  'sublabel': 'out of 5',\n",
       "  'range': [3.5, 4.25, 5],\n",
       "  'performance': [3.2, 4.7],\n",
       "  'point': [4.4]})"
      ]
     },
     "execution_count": 128,
     "metadata": {},
     "output_type": "execute_result"
    }
   ],
   "source": [
    "data"
   ]
  },
  {
   "cell_type": "code",
   "execution_count": 158,
   "metadata": {},
   "outputs": [
    {
     "data": {
      "text/plain": [
       "<matplotlib.lines.Line2D at 0x1ca261f2e08>"
      ]
     },
     "execution_count": 158,
     "metadata": {},
     "output_type": "execute_result"
    },
    {
     "data": {
      "image/png": "[encoded data removed]",
      "text/plain": [
       "<Figure size 432x288 with 1 Axes>"
      ]
     },
     "metadata": {
      "needs_background": "light"
     },
     "output_type": "display_data"
    }
   ],
   "source": [
    "limits = [1, 3, 10]\n",
    "data_to_plot = ('North West', 5.6, 3) # ('Mid West', 32, 3)]\n",
    "palette = sns.color_palette(\"Greys_r\", len(limits))\n",
    "\n",
    "fig, ax = plt.subplots()\n",
    "ax.set_aspect('equal')\n",
    "ax.set_yticks([1])\n",
    "ax.set_yticklabels([data_to_plot[0]])\n",
    "\n",
    "prev_limit = 0\n",
    "for idx, lim in enumerate(limits):\n",
    "    ax.barh([1], lim-prev_limit, left=prev_limit, height=15, color=palette[idx])\n",
    "    prev_limit = lim\n",
    "\n",
    "ax.barh([1], data_to_plot[1], color='blue', height=5)\n",
    "ax.axvline(data_to_plot[2], color=\"black\", ymin=0.10, ymax=0.9)"
   ]
  },
  {
   "cell_type": "code",
   "execution_count": 165,
   "metadata": {},
   "outputs": [],
   "source": [
    "def bulletgraph(data=None, limits=None, labels=None, axis_label=None, title=None,\n",
    "                size=(5, 3), palette=None, formatter=None, target_color=\"gray\",\n",
    "                bar_color=\"black\", label_color=\"gray\"):\n",
    "    \"\"\" Build out a bullet graph image\n",
    "        Args:\n",
    "            data = List of labels, measures and targets\n",
    "            limits = list of range valules\n",
    "            labels = list of descriptions of the limit ranges\n",
    "            axis_label = string describing x axis\n",
    "            title = string title of plot\n",
    "            size = tuple for plot size\n",
    "            palette = a seaborn palette\n",
    "            formatter = matplotlib formatter object for x axis\n",
    "            target_color = color string for the target line\n",
    "            bar_color = color string for the small bar\n",
    "            label_color = color string for the limit label text\n",
    "        Returns:\n",
    "            a matplotlib figure\n",
    "    \"\"\"\n",
    "    # Determine the max value for adjusting the bar height\n",
    "    # Dividing by 10 seems to work pretty well\n",
    "    h = limits[-1] / 10\n",
    "\n",
    "    # Use the green palette as a sensible default\n",
    "    if palette is None:\n",
    "        palette = sns.light_palette(\"grey\", len(limits), reverse=False)\n",
    "\n",
    "    # Must be able to handle one or many data sets via multiple subplots\n",
    "    if len(data) == 1:\n",
    "        fig, ax = plt.subplots(figsize=size, sharex=True)\n",
    "    else:\n",
    "        fig, axarr = plt.subplots(len(data), figsize=size, sharex=True)\n",
    "\n",
    "    # Add each bullet graph bar to a subplot\n",
    "    for idx, item in enumerate(data):\n",
    "\n",
    "        # Get the axis from the array of axes returned when the plot is created\n",
    "        if len(data) > 1:\n",
    "            ax = axarr[idx]\n",
    "\n",
    "        # Formatting to get rid of extra marking clutter\n",
    "        ax.set_aspect('equal')\n",
    "        ax.set_yticklabels([item[0]])\n",
    "        ax.set_yticks([1])\n",
    "        ax.spines['bottom'].set_visible(False)\n",
    "        ax.spines['top'].set_visible(False)\n",
    "        ax.spines['right'].set_visible(False)\n",
    "        ax.spines['left'].set_visible(False)\n",
    "\n",
    "        prev_limit = 0\n",
    "        for idx2, lim in enumerate(limits):\n",
    "            # Draw the bar\n",
    "            ax.barh([1], lim - prev_limit, left=prev_limit, height=h,\n",
    "                    color=palette[idx2])\n",
    "            prev_limit = lim\n",
    "        rects = ax.patches\n",
    "        # The last item in the list is the value we're measuring\n",
    "        # Draw the value we're measuring\n",
    "        ax.barh([1], item[1], height=(h / 3), color=bar_color)\n",
    "\n",
    "        # Need the ymin and max in order to make sure the target marker\n",
    "        # fits\n",
    "        ymin, ymax = ax.get_ylim()\n",
    "        ax.vlines(\n",
    "            item[2], ymin * .9, ymax * .9, linewidth=1.5, color=target_color)\n",
    "\n",
    "    # Now make some labels\n",
    "    if labels is not None:\n",
    "        for rect, label in zip(rects, labels):\n",
    "            height = rect.get_height()\n",
    "            ax.text(\n",
    "                rect.get_x() + rect.get_width() / 2,\n",
    "                -height * .4,\n",
    "                label,\n",
    "                ha='center',\n",
    "                va='bottom',\n",
    "                color=label_color)\n",
    "    if formatter:\n",
    "        ax.xaxis.set_major_formatter(formatter)\n",
    "    if axis_label:\n",
    "        ax.set_xlabel(axis_label)\n",
    "    if title:\n",
    "        fig.suptitle(title, fontsize=14)\n",
    "    fig.subplots_adjust(hspace=0)"
   ]
  },
  {
   "cell_type": "code",
   "execution_count": 167,
   "metadata": {},
   "outputs": [
    {
     "name": "stderr",
     "output_type": "stream",
     "text": [
      "C:\\Users\\quefi\\Anaconda3\\lib\\site-packages\\ipykernel_launcher.py:43: UserWarning:\n",
      "\n",
      "FixedFormatter should only be used together with FixedLocator\n",
      "\n"
     ]
    },
    {
     "data": {
      "image/png": "[encoded data removed]",
      "text/plain": [
       "<Figure size 576x360 with 9 Axes>"
      ]
     },
     "metadata": {
      "needs_background": "light"
     },
     "output_type": "display_data"
    }
   ],
   "source": [
    "data_to_plot2 = [(\"North West\", 5.6, 3),\n",
    "                 (\"South West\", 5.4, 3),\n",
    "                 (\"South East\", 4.6, 3),\n",
    "                 (\"West\", 4.5, 3),\n",
    "                 (\"South\", 4.1, 3),\n",
    "                 (\"Mid West\", 3.8, 3),\n",
    "                 (\"East\", 3.6, 3),\n",
    "                 (\"North East\", 3.5, 3),\n",
    "                 (\"North\", 3.3, 3)]5.6\n",
    "\n",
    "bulletgraph(data_to_plot2, limits=[1, 2.5, 4, 6],\n",
    "            size=(8,5),\n",
    "            label_color=\"black\",\n",
    "            bar_color=\"blue\", target_color='black',\n",
    "            title=\"US Highschool Dropout Rate by Region vs. 3% Target\")"
   ]
  },
  {
   "cell_type": "code",
   "execution_count": null,
   "metadata": {},
   "outputs": [],
   "source": []
  }
 ],
 "metadata": {
  "kernelspec": {
   "display_name": "Python 3",
   "language": "python",
   "name": "python3"
  },
  "language_info": {
   "codemirror_mode": {
    "name": "ipython",
    "version": 3
   },
   "file_extension": ".py",
   "mimetype": "text/x-python",
   "name": "python",
   "nbconvert_exporter": "python",
   "pygments_lexer": "ipython3",
   "version": "3.7.4"
  }
 },
 "nbformat": 4,
 "nbformat_minor": 4
}
